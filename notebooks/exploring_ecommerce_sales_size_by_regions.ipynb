{
 "cells": [
  {
   "cell_type": "markdown",
   "metadata": {},
   "source": [
    "# Porcentage of E-Commerce Sales for a selected Region by enterprice size categories"
   ]
  },
  {
   "cell_type": "code",
   "execution_count": null,
   "metadata": {},
   "outputs": [],
   "source": [
    "%run cleaning_ecommerce_sales.ipynb\n",
    "\n",
    "import matplotlib.pyplot as plt\n",
    "import numpy as np\n",
    "import pandas as pd\n",
    "\n",
    "import functions\n",
    "import dictionaries\n",
    "\n",
    "df_cat, df_all, df_euro_all = import_df_ecommerce() # type: ignore"
   ]
  },
  {
   "cell_type": "markdown",
   "metadata": {},
   "source": [
    "## Hypotesis\n",
    "- Smaller firms grew in the latest years as technology became more affordable"
   ]
  },
  {
   "cell_type": "code",
   "execution_count": null,
   "metadata": {},
   "outputs": [],
   "source": [
    "\n",
    "sizes = df_cat[\"size_emp\"].unique()\n",
    "sizes = list(sizes)\n",
    "sizes"
   ]
  },
  {
   "cell_type": "code",
   "execution_count": null,
   "metadata": {},
   "outputs": [],
   "source": [
    "\n",
    "\n",
    "for size in sizes:\n",
    "    df_filter = df_cat[df_cat[\"size_emp\"] == size]\n",
    "    df_sizes_years = df_filter.pivot(index=[\"region\", \"country\"], columns=\"year\", values=\"sales\").reset_index()\n",
    "    df_region_select = df_sizes_years.groupby([\"region\"]).mean(numeric_only=True).round(2)\n",
    "\n",
    "    display(df_region_select)\n",
    "\n",
    "    # Preprocess for plotting\n",
    "    df_transposed = df_region_select.T # transposing DF to have years as rows and country as columns\n",
    "    df_transposed.index = df_transposed.index.astype(int) # Convert the index (years) to integers for proper plotting /!\\\n",
    "\n",
    "    # Plot the data\n",
    "    functions.plot_line_chart(\n",
    "        df_transposed, \n",
    "        'Year', \n",
    "        f'% of E-Commerce Sales for {size}', \n",
    "        f'% of Sales for {size} by size categories',\n",
    "        'Region',\n",
    "        )"
   ]
  }
 ],
 "metadata": {
  "kernelspec": {
   "display_name": "project1_venv",
   "language": "python",
   "name": "python3"
  },
  "language_info": {
   "codemirror_mode": {
    "name": "ipython",
    "version": 3
   },
   "file_extension": ".py",
   "mimetype": "text/x-python",
   "name": "python",
   "nbconvert_exporter": "python",
   "pygments_lexer": "ipython3",
   "version": "3.9.6"
  }
 },
 "nbformat": 4,
 "nbformat_minor": 2
}
