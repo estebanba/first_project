{
 "cells": [
  {
   "cell_type": "markdown",
   "metadata": {},
   "source": [
    "# Exploring E-Commerce Sales"
   ]
  },
  {
   "cell_type": "code",
   "execution_count": null,
   "metadata": {},
   "outputs": [],
   "source": [
    "%run cleaning_ecommerce_sales.ipynb\n",
    "import matplotlib.pyplot as plt\n",
    "import numpy as np\n",
    "import pandas as pd\n",
    "\n",
    "import functions\n",
    "\n",
    "df_cat, df_all, df_euro_all = import_df_ecommerce() # type: ignore\n"
   ]
  },
  {
   "cell_type": "markdown",
   "metadata": {},
   "source": [
    "## Check overall Euro Area values"
   ]
  },
  {
   "cell_type": "code",
   "execution_count": null,
   "metadata": {},
   "outputs": [],
   "source": [
    "df_euro_years = df_euro_all.pivot(index=[\"country\"], columns='year', values='sales').reset_index()\n",
    "df_euro_years"
   ]
  },
  {
   "cell_type": "code",
   "execution_count": 27,
   "metadata": {},
   "outputs": [],
   "source": [
    "# Preprocess for plotting\n",
    "\n",
    "df_euro_years.set_index('country', inplace=True) # set country as index\n",
    "df_transposed = df_euro_years.T # transposing DF to have years as rows and country as columns\n",
    "df_transposed.index = df_transposed.index.astype(int) # Convert the index (years) to integers for proper plotting /!\\"
   ]
  },
  {
   "cell_type": "code",
   "execution_count": null,
   "metadata": {},
   "outputs": [],
   "source": [
    "functions.plot_line_chart(\n",
    "    df_transposed, \n",
    "    'Year', \n",
    "    '% of E-Commerce Sales by Size Group', \n",
    "    '% of Sales that are from E-Commerce by Size Group (2010-2024)',\n",
    "    'Region',\n",
    "    )"
   ]
  },
  {
   "cell_type": "code",
   "execution_count": null,
   "metadata": {},
   "outputs": [],
   "source": [
    "euro_2024 = df_euro_years[2024]\n",
    "euro_2024.name\n",
    "\n",
    "labels = 'Sales from E-Commerce', 'Others'\n",
    "sizes = [euro_2024.values[0], 100 - euro_2024.values[0]]\n",
    "\n",
    "\n",
    "\n",
    "fig, ax = plt.subplots()\n",
    "ax.pie(sizes, labels=labels, autopct='%1.1f%%')"
   ]
  },
  {
   "cell_type": "markdown",
   "metadata": {},
   "source": [
    "## Hypotesis\n",
    "- Smaller firms grew more in comparison to bigger firms in the latest years as technology became more affordable"
   ]
  },
  {
   "cell_type": "markdown",
   "metadata": {},
   "source": [
    "### All time historical ranking category country"
   ]
  },
  {
   "cell_type": "code",
   "execution_count": null,
   "metadata": {},
   "outputs": [],
   "source": [
    "df_all.sort_values(by=\"sales\", ascending=False)[[\"country\", \"year\", \"sales\"]]"
   ]
  },
  {
   "cell_type": "code",
   "execution_count": null,
   "metadata": {},
   "outputs": [],
   "source": [
    "df_pivot_size = df_cat.pivot(index=['size_emp', 'region', \"country\"], columns='year', values='sales').reset_index()\n",
    "df_pivot_size"
   ]
  },
  {
   "cell_type": "code",
   "execution_count": null,
   "metadata": {},
   "outputs": [],
   "source": [
    "df_region_group = df_pivot_size.groupby([\"region\", \"size_emp\"]).mean(numeric_only=True).round(2)\n",
    "df_region_group"
   ]
  },
  {
   "cell_type": "code",
   "execution_count": null,
   "metadata": {},
   "outputs": [],
   "source": [
    "df_pivot_all = df_all.pivot(index=['country'], columns='year', values='sales').reset_index()\n",
    "df_pivot_all"
   ]
  },
  {
   "cell_type": "code",
   "execution_count": 34,
   "metadata": {},
   "outputs": [],
   "source": [
    "# Preprocess for plotting\n",
    "df_pivot_all.set_index('country', inplace=True) # set country as index\n",
    "df_transposed = df_pivot_all.T # transposing DF to have years as rows and country as columns\n",
    "df_transposed.index = df_transposed.index.astype(int) # Convert the index (years) to integers for proper plotting /!\\"
   ]
  },
  {
   "cell_type": "code",
   "execution_count": null,
   "metadata": {},
   "outputs": [],
   "source": [
    "# Plot the data\n",
    "functions.plot_line_chart(\n",
    "    df_transposed, \n",
    "    'Year', \n",
    "    '% of E-Commerce Sales', \n",
    "    '% of Sales that are from E-Commerce by by Country (2010-2024)',\n",
    "    'Country',\n",
    "    )\n",
    "\n",
    "# This is too messy and we cannot have conclusons"
   ]
  },
  {
   "cell_type": "markdown",
   "metadata": {},
   "source": [
    "### % of Sales that are from E-Commerce by European Region (2010-2024)"
   ]
  },
  {
   "cell_type": "code",
   "execution_count": null,
   "metadata": {},
   "outputs": [],
   "source": [
    "df_regions_years = df_all.pivot(index=[\"country\", \"region\"], columns=\"year\", values=\"sales\").reset_index()\n",
    "\n",
    "df_region_group = df_regions_years.groupby(\"region\").mean(numeric_only=True).round(2)\n",
    "\n",
    "df_region_group\n",
    "\n",
    "# df_regions_years = df_all.pivot(index=[\"region\"], columns=\"year\", values=\"sales\").reset_index()\n",
    "# df_regions_years"
   ]
  },
  {
   "cell_type": "code",
   "execution_count": 37,
   "metadata": {},
   "outputs": [],
   "source": [
    "# Preprocess for plotting\n",
    "\n",
    "# df_region_group.set_index('region', inplace=True) # set country as index\n",
    "df_transposed = df_region_group.T # transposing DF to have years as rows and country as columns\n",
    "df_transposed.index = df_transposed.index.astype(int) # Convert the index (years) to integers for proper plotting /!\\"
   ]
  },
  {
   "cell_type": "code",
   "execution_count": null,
   "metadata": {},
   "outputs": [],
   "source": [
    "# Plot the data\n",
    "functions.plot_line_chart(\n",
    "    df_transposed, \n",
    "    'Year', \n",
    "    '% of E-Commerce Sales', \n",
    "    '% of Sales that are from E-Commerce by European Region (2010-2024)',\n",
    "    'Region',\n",
    "    )"
   ]
  },
  {
   "cell_type": "code",
   "execution_count": null,
   "metadata": {},
   "outputs": [],
   "source": [
    "df_pivot_size = df_cat.pivot(index=['size_emp', 'country'], columns='year', values='sales').reset_index()\n",
    "df_pivot_size\n"
   ]
  },
  {
   "cell_type": "code",
   "execution_count": null,
   "metadata": {},
   "outputs": [],
   "source": [
    "# Statistical values overall by enterprise size groups\n",
    "df_cat.groupby(\"size_emp\")[[\"size_emp\", \"country\",\"sales\"]].agg({\"sales\": {\"mean\", \"min\", \"max\", \"std\"}}).round(2)"
   ]
  },
  {
   "cell_type": "code",
   "execution_count": null,
   "metadata": {},
   "outputs": [],
   "source": [
    "# Mean values for the % of sales for each enterprise size group year over year\n",
    "df_mean_by_year = (df_cat.\n",
    "                   pivot_table(\n",
    "                       index='size_emp', \n",
    "                       columns='year', \n",
    "                       values='sales',\n",
    "                       aggfunc='mean'\n",
    "                       )\n",
    "                       .round(2)\n",
    "                       .sort_index())\n",
    "\n",
    "df_mean_by_year.reset_index()"
   ]
  },
  {
   "cell_type": "code",
   "execution_count": 42,
   "metadata": {},
   "outputs": [],
   "source": [
    "# Preprocess for plotting\n",
    "\n",
    "# df_region_group.set_index('region', inplace=True) # set country as index\n",
    "df_transposed = df_mean_by_year.T # transposing DF to have years as rows and country as columns\n",
    "df_transposed.index = df_transposed.index.astype(int) # Convert the index (years) to integers for proper plotting /!\\"
   ]
  },
  {
   "cell_type": "code",
   "execution_count": null,
   "metadata": {},
   "outputs": [],
   "source": [
    "functions.plot_line_chart(\n",
    "    df_transposed, \n",
    "    'Year', \n",
    "    '% of E-Commerce Sales by Size Group', \n",
    "    '% of Sales that are from E-Commerce by Size Group (2010-2024)',\n",
    "    'Region',\n",
    "    )"
   ]
  },
  {
   "cell_type": "markdown",
   "metadata": {},
   "source": [
    "## Ranking of top digitalized countries per year."
   ]
  },
  {
   "cell_type": "code",
   "execution_count": null,
   "metadata": {},
   "outputs": [],
   "source": [
    "# Top countries by sales for each combination\n",
    "df_top = (df_cat\n",
    "    .reset_index()\n",
    "    .groupby(['size_emp', 'year'])\n",
    "    .apply(lambda x: x.nlargest(1, 'sales'))\n",
    "    .reset_index(drop=True)\n",
    ")\n",
    "\n",
    "# Pivot with sizes as columns\n",
    "df_pivot_sizes = (df_top\n",
    "    .pivot(\n",
    "        index='year',\n",
    "        columns='size_emp',\n",
    "        values=['country', 'sales']\n",
    "    )\n",
    "    .reset_index()\n",
    ")\n",
    "\n",
    "# Reorder columns to group country and sales by year\n",
    "sizes = sorted(df_top['size_emp'].unique())\n",
    "column_order = [('year', '')]\n",
    "for size in sizes:\n",
    "    column_order.extend([('country', size), ('sales', size)])\n",
    "\n",
    "# Reorder and format\n",
    "df_ranking_year = df_pivot_sizes[column_order].round(2).sort_values('year')\n",
    "\n",
    "df_ranking_year"
   ]
  }
 ],
 "metadata": {
  "kernelspec": {
   "display_name": "project1_venv",
   "language": "python",
   "name": "python3"
  },
  "language_info": {
   "codemirror_mode": {
    "name": "ipython",
    "version": 3
   },
   "file_extension": ".py",
   "mimetype": "text/x-python",
   "name": "python",
   "nbconvert_exporter": "python",
   "pygments_lexer": "ipython3",
   "version": "3.9.6"
  }
 },
 "nbformat": 4,
 "nbformat_minor": 4
}
