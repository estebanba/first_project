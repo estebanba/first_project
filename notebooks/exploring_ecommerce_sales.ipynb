{
 "cells": [
  {
   "cell_type": "markdown",
   "metadata": {},
   "source": [
    "# Exploring E-Commerce Sales"
   ]
  },
  {
   "cell_type": "code",
   "execution_count": null,
   "metadata": {},
   "outputs": [],
   "source": [
    "%run cleaning_ecommerce_sales.ipynb\n",
    "import matplotlib.pyplot as plt\n",
    "import numpy as np\n",
    "import pandas as pd\n",
    "\n",
    "import functions\n",
    "\n",
    "df_cat, df_all, df_euro_all = import_df_ecommerce() # type: ignore\n"
   ]
  },
  {
   "cell_type": "markdown",
   "metadata": {},
   "source": [
    "## Check overall Euro Area values"
   ]
  },
  {
   "cell_type": "code",
   "execution_count": null,
   "metadata": {},
   "outputs": [],
   "source": [
    "df_euro_years = df_euro_all.pivot(index=[\"country\"], columns='year', values='sales').reset_index()\n",
    "df_euro_years"
   ]
  },
  {
   "cell_type": "code",
   "execution_count": 81,
   "metadata": {},
   "outputs": [],
   "source": [
    "# Preprocess for plotting\n",
    "\n",
    "df_euro_years.set_index('country', inplace=True) # set country as index\n",
    "df_transposed = df_euro_years.T # transposing DF to have years as rows and country as columns\n",
    "df_transposed.index = df_transposed.index.astype(int) # Convert the index (years) to integers for proper plotting /!\\"
   ]
  },
  {
   "cell_type": "code",
   "execution_count": null,
   "metadata": {},
   "outputs": [],
   "source": [
    "functions.plot_line_chart(\n",
    "    df_transposed, \n",
    "    'Year', \n",
    "    '% of E-Commerce Sales by Size Group', \n",
    "    '% of Sales that are from E-Commerce by Size Group (2010-2024)',\n",
    "    'Region',\n",
    "    )"
   ]
  },
  {
   "cell_type": "code",
   "execution_count": null,
   "metadata": {},
   "outputs": [],
   "source": [
    "df_euro_years.columns\n",
    "\n",
    "euro_2024 = df_euro_years[2024]\n",
    "euro_2024.name\n",
    "\n",
    "labels = 'Sales from E-Commerce', 'Others'\n",
    "sizes = [euro_2024.values[0], 100 - euro_2024.values[0]]\n",
    "\n",
    "\n",
    "\n",
    "fig, ax = plt.subplots()\n",
    "ax.pie(sizes, labels=labels, autopct='%1.1f%%')"
   ]
  },
  {
   "cell_type": "markdown",
   "metadata": {},
   "source": [
    "## Hypotesis\n",
    "- Smaller firms grew in the latest years as technology became more affordable"
   ]
  },
  {
   "cell_type": "markdown",
   "metadata": {},
   "source": [
    "### All time historical ranking category country"
   ]
  },
  {
   "cell_type": "code",
   "execution_count": null,
   "metadata": {},
   "outputs": [],
   "source": [
    "df_all.sort_values(by=\"sales\", ascending=False)[[\"country\", \"year\", \"sales\"]]"
   ]
  },
  {
   "cell_type": "code",
   "execution_count": null,
   "metadata": {},
   "outputs": [],
   "source": [
    "df_pivot_size = df_cat.pivot(index=['size_emp', 'region', \"country\"], columns='year', values='sales').reset_index()\n",
    "df_pivot_size"
   ]
  },
  {
   "cell_type": "code",
   "execution_count": null,
   "metadata": {},
   "outputs": [],
   "source": [
    "df_region_group = df_pivot_size.groupby([\"region\", \"size_emp\"]).mean(numeric_only=True).round(2)\n",
    "df_region_group"
   ]
  },
  {
   "cell_type": "code",
   "execution_count": null,
   "metadata": {},
   "outputs": [],
   "source": [
    "df_pivot_all = df_all.pivot(index=['country'], columns='year', values='sales').reset_index()\n",
    "df_pivot_all"
   ]
  },
  {
   "cell_type": "code",
   "execution_count": 88,
   "metadata": {},
   "outputs": [],
   "source": [
    "# Preprocess for plotting\n",
    "df_pivot_all.set_index('country', inplace=True) # set country as index\n",
    "df_transposed = df_pivot_all.T # transposing DF to have years as rows and country as columns\n",
    "df_transposed.index = df_transposed.index.astype(int) # Convert the index (years) to integers for proper plotting /!\\"
   ]
  },
  {
   "cell_type": "code",
   "execution_count": null,
   "metadata": {},
   "outputs": [],
   "source": [
    "# Plot the data\n",
    "functions.plot_line_chart(\n",
    "    df_transposed, \n",
    "    'Year', \n",
    "    '% of E-Commerce Sales', \n",
    "    '% of Sales that are from E-Commerce by by Country (2010-2024)',\n",
    "    'Country',\n",
    "    )\n",
    "\n",
    "# This is too messy and we cannot have conclusons"
   ]
  },
  {
   "cell_type": "markdown",
   "metadata": {},
   "source": [
    "### % of Sales that are from E-Commerce by European Region (2010-2024)"
   ]
  },
  {
   "cell_type": "code",
   "execution_count": null,
   "metadata": {},
   "outputs": [],
   "source": [
    "df_regions_years = df_all.pivot(index=[\"country\", \"region\"], columns=\"year\", values=\"sales\").reset_index()\n",
    "\n",
    "df_region_group = df_regions_years.groupby(\"region\").mean(numeric_only=True).round(2)\n",
    "\n",
    "df_region_group\n",
    "\n",
    "# df_regions_years = df_all.pivot(index=[\"region\"], columns=\"year\", values=\"sales\").reset_index()\n",
    "# df_regions_years"
   ]
  },
  {
   "cell_type": "code",
   "execution_count": 91,
   "metadata": {},
   "outputs": [],
   "source": [
    "# Preprocess for plotting\n",
    "\n",
    "# df_region_group.set_index('region', inplace=True) # set country as index\n",
    "df_transposed = df_region_group.T # transposing DF to have years as rows and country as columns\n",
    "df_transposed.index = df_transposed.index.astype(int) # Convert the index (years) to integers for proper plotting /!\\"
   ]
  },
  {
   "cell_type": "code",
   "execution_count": null,
   "metadata": {},
   "outputs": [],
   "source": [
    "# Plot the data\n",
    "functions.plot_line_chart(\n",
    "    df_transposed, \n",
    "    'Year', \n",
    "    '% of E-Commerce Sales', \n",
    "    '% of Sales that are from E-Commerce by European Region (2010-2024)',\n",
    "    'Region',\n",
    "    )"
   ]
  },
  {
   "cell_type": "code",
   "execution_count": null,
   "metadata": {},
   "outputs": [],
   "source": [
    "df_pivot_size = df_cat.pivot(index=['size_emp', 'country'], columns='year', values='sales').reset_index()\n",
    "df_pivot_size\n"
   ]
  },
  {
   "cell_type": "code",
   "execution_count": null,
   "metadata": {},
   "outputs": [],
   "source": [
    "# Statistical values overall by enterprise size groups\n",
    "df_cat.groupby(\"size_emp\")[[\"size_emp\", \"country\",\"sales\"]].agg({\"sales\": {\"mean\", \"min\", \"max\", \"std\"}}).round(2)"
   ]
  },
  {
   "cell_type": "code",
   "execution_count": null,
   "metadata": {},
   "outputs": [],
   "source": [
    "# Mean values for the % of sales for each enterprise size group year over year\n",
    "df_mean_by_year = (df_cat.\n",
    "                   pivot_table(\n",
    "                       index='size_emp', \n",
    "                       columns='year', \n",
    "                       values='sales',\n",
    "                       aggfunc='mean'\n",
    "                       )\n",
    "                       .round(2)\n",
    "                       .sort_index())\n",
    "\n",
    "df_mean_by_year.reset_index()"
   ]
  },
  {
   "cell_type": "code",
   "execution_count": 96,
   "metadata": {},
   "outputs": [],
   "source": [
    "# Preprocess for plotting\n",
    "\n",
    "# df_region_group.set_index('region', inplace=True) # set country as index\n",
    "df_transposed = df_mean_by_year.T # transposing DF to have years as rows and country as columns\n",
    "df_transposed.index = df_transposed.index.astype(int) # Convert the index (years) to integers for proper plotting /!\\"
   ]
  },
  {
   "cell_type": "code",
   "execution_count": null,
   "metadata": {},
   "outputs": [],
   "source": [
    "functions.plot_line_chart(\n",
    "    df_transposed, \n",
    "    'Year', \n",
    "    '% of E-Commerce Sales by Size Group', \n",
    "    '% of Sales that are from E-Commerce by Size Group (2010-2024)',\n",
    "    'Region',\n",
    "    )"
   ]
  },
  {
   "cell_type": "markdown",
   "metadata": {},
   "source": [
    "## Ranking of top digitalized countries per year."
   ]
  },
  {
   "cell_type": "code",
   "execution_count": null,
   "metadata": {},
   "outputs": [],
   "source": [
    "# Top countries by sales for each combination\n",
    "df_top = (df_cat\n",
    "    .reset_index()\n",
    "    .groupby(['size_emp', 'year'])\n",
    "    .apply(lambda x: x.nlargest(1, 'sales'))\n",
    "    .reset_index(drop=True)\n",
    ")\n",
    "\n",
    "# Pivot with sizes as columns\n",
    "df_pivot_sizes = (df_top\n",
    "    .pivot(\n",
    "        index='year',\n",
    "        columns='size_emp',\n",
    "        values=['country', 'sales']\n",
    "    )\n",
    "    .reset_index()\n",
    ")\n",
    "\n",
    "# Reorder columns to group country and sales by year\n",
    "sizes = sorted(df_top['size_emp'].unique())\n",
    "column_order = [('year', '')]\n",
    "for size in sizes:\n",
    "    column_order.extend([('country', size), ('sales', size)])\n",
    "\n",
    "# Reorder and format\n",
    "df_ranking_year = df_pivot_sizes[column_order].round(2).sort_values('year')\n",
    "\n",
    "df_ranking_year"
   ]
  },
  {
   "cell_type": "code",
   "execution_count": null,
   "metadata": {},
   "outputs": [],
   "source": [
    "# Create the DataFrame\n",
    "data = {\n",
    "    'year': range(2010, 2025),\n",
    "    'B(10-49)_country': ['Norway', 'Norway', 'Norway', 'Denmark', 'Czechia', 'Ireland', 'Ireland', \n",
    "                        'Norway', 'Denmark', 'Ireland', 'Denmark', 'Denmark', 'Ireland', 'Denmark', 'Denmark'],\n",
    "    'B(10-49)_sales': [32.41, 29.46, 32.58, 24.83, 25.13, 27.91, 26.31, 27.01, 28.87, \n",
    "                       32.38, 36.33, 35.64, 34.1, 33.88, 35.58],\n",
    "    'C(50-249)_country': ['Norway', 'Norway', 'Iceland', 'Ireland', 'Ireland', 'Ireland', 'Ireland',\n",
    "                         'Ireland', 'Ireland', 'Ireland', 'Ireland', 'Sweden', 'Sweden', 'Sweden', 'Sweden'],\n",
    "    'C(50-249)_sales': [42.02, 36.29, 50.21, 42.08, 43.1, 50.63, 47.0, 44.75, 48.2, \n",
    "                        50.1, 50.22, 48.1, 49.37, 46.47, 48.48],\n",
    "    'D(>=250)_country': ['Sweden', 'Sweden', 'Iceland', 'Denmark', 'Denmark', 'Denmark', 'Belgium',\n",
    "                        'Belgium', 'Belgium', 'Sweden', 'Sweden', 'Sweden', 'Sweden', 'Sweden', 'Sweden'],\n",
    "    'D(>=250)_sales': [52.18, 51.38, 55.18, 52.7, 50.97, 53.48, 54.86, 57.22, 58.51,\n",
    "                       63.55, 63.21, 65.56, 64.12, 62.38, 63.76]\n",
    "}\n",
    "\n",
    "df = pd.DataFrame(data)\n",
    "\n",
    "# Get unique countries and assign colors\n",
    "all_countries = set()\n",
    "for col in ['B(10-49)_country', 'C(50-249)_country', 'D(>=250)_country']:\n",
    "    all_countries.update(df[col].unique())\n",
    "all_countries = sorted(list(all_countries))\n",
    "\n",
    "# Create a color map for countries\n",
    "colors = {\n",
    "    'Norway': '#1f77b4',    # blue\n",
    "    'Sweden': '#2ca02c',    # green\n",
    "    'Denmark': '#ff7f0e',   # orange\n",
    "    'Ireland': '#d62728',   # red\n",
    "    'Iceland': '#9467bd',   # purple\n",
    "    'Belgium': '#8c564b',   # brown\n",
    "    'Czechia': '#e377c2',   # pink\n",
    "}\n",
    "\n",
    "# Set up the plot\n",
    "fig, ax = plt.subplots(figsize=(20, 10))\n",
    "\n",
    "# Width of each bar and positions\n",
    "bar_width = 0.2\n",
    "years = df['year'].unique()\n",
    "x = np.arange(len(years))\n",
    "\n",
    "# Plot bars for each size category\n",
    "for i, (pos, size, country_col, sales_col) in enumerate([\n",
    "    (-bar_width, 'Small (10-49)', 'B(10-49)_country', 'B(10-49)_sales'),\n",
    "    (0, 'Medium (50-249)', 'C(50-249)_country', 'C(50-249)_sales'),\n",
    "    (bar_width, 'Large (>=250)', 'D(>=250)_country', 'D(>=250)_sales')\n",
    "]):\n",
    "    # Create bars\n",
    "    bars = ax.bar(x + pos, df[sales_col], bar_width, \n",
    "                  label=size)\n",
    "    \n",
    "    # Color bars by country\n",
    "    for j, bar in enumerate(bars):\n",
    "        country = df[country_col].iloc[j]\n",
    "        bar.set_color(colors[country])\n",
    "        # Add country label on top of each bar\n",
    "        ax.text(x[j] + pos, df[sales_col].iloc[j], country, \n",
    "                ha='center', va='bottom', rotation=90)\n",
    "\n",
    "# Customize the plot\n",
    "ax.set_xlabel('Year')\n",
    "ax.set_ylabel('Sales')\n",
    "ax.set_title('Sales by Country and Company Size Over Time')\n",
    "ax.set_xticks(x)\n",
    "ax.set_xticklabels(years, rotation=45)\n",
    "\n",
    "# Add legend for sizes\n",
    "ax.legend(title='Company Size', loc='upper left')\n",
    "\n",
    "# Add legend for countries\n",
    "country_patches = [plt.Rectangle((0,0),1,1, fc=color) for country, color in colors.items()]\n",
    "ax.legend(country_patches, colors.keys(), title='Countries', \n",
    "         loc='upper right', bbox_to_anchor=(1.15, 1))\n",
    "\n",
    "# Add grid for better readability\n",
    "ax.grid(True, axis='y', linestyle='--', alpha=0.7)\n",
    "\n",
    "# Adjust layout to prevent label cutoff\n",
    "plt.tight_layout()\n",
    "\n",
    "# Show plot\n",
    "plt.show()"
   ]
  },
  {
   "cell_type": "code",
   "execution_count": null,
   "metadata": {},
   "outputs": [],
   "source": [
    "df_pivot_country = df_cat.pivot(index=['country','size_emp'], columns='year', values='sales').reset_index().head(50)\n",
    "df_pivot_country"
   ]
  },
  {
   "cell_type": "code",
   "execution_count": 101,
   "metadata": {},
   "outputs": [],
   "source": [
    "# # Map countries into regions\n",
    "\n",
    "# df_cat_copy = df_cat.copy()\n",
    "# df_regions = functions.region_mapping(df_cat_copy)\n",
    "# df_regions"
   ]
  },
  {
   "cell_type": "code",
   "execution_count": null,
   "metadata": {},
   "outputs": [],
   "source": [
    "# \n",
    "df_regions_years = df_cat.pivot(index=[\"year\", \"size_emp\", \"country\"], columns=\"region\", values=\"sales\").reset_index()\n",
    "\n",
    "df_regions_years"
   ]
  }
 ],
 "metadata": {
  "kernelspec": {
   "display_name": "Python 3 (ipykernel)",
   "language": "python",
   "name": "python3"
  },
  "language_info": {
   "codemirror_mode": {
    "name": "ipython",
    "version": 3
   },
   "file_extension": ".py",
   "mimetype": "text/x-python",
   "name": "python",
   "nbconvert_exporter": "python",
   "pygments_lexer": "ipython3",
   "version": "3.12.7"
  }
 },
 "nbformat": 4,
 "nbformat_minor": 4
}
