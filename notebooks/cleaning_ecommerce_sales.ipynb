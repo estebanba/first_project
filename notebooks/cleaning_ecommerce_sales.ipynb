{
 "cells": [
  {
   "cell_type": "code",
   "execution_count": 110,
   "metadata": {},
   "outputs": [],
   "source": [
    "import pandas as pd\n",
    "import functions\n",
    "\n",
    "df = pd.read_csv(\"../data/raw/ecommerce_sales.csv\")"
   ]
  },
  {
   "cell_type": "code",
   "execution_count": null,
   "metadata": {},
   "outputs": [],
   "source": [
    "# Remove all empty columns and rows (all NaN values)\n",
    "df_cleaned = df.dropna(axis=1, how='all')\n",
    "df_cleaned = df.dropna(how='all')\n",
    "\n",
    "df_cleaned"
   ]
  },
  {
   "cell_type": "code",
   "execution_count": null,
   "metadata": {},
   "outputs": [],
   "source": [
    "# Clean Columns\n",
    "# print(df_cleaned.columns)\n",
    "\n",
    "df_cleaned = df_cleaned.drop(columns = ['DATAFLOW', 'LAST UPDATE', 'freq', 'nace_r2', 'indic_is',\n",
    "       'unit', 'OBS_FLAG', 'CONF_STATUS'])\n",
    "\n",
    "df_cleaned.rename(columns={\"geo\": \"country\", \"TIME_PERIOD\": \"year\", \"OBS_VALUE\": \"sales\"}, inplace=True)\n",
    "\n",
    "df_cleaned\n"
   ]
  },
  {
   "cell_type": "code",
   "execution_count": 113,
   "metadata": {},
   "outputs": [],
   "source": [
    "# Shortens the size_emp values\n",
    "size_map = {\n",
    "    \"From 1 to 9 persons employed\": \"A(1-9)\",\n",
    "    \"From 10 to 49 persons employed\": \"B(10-49)\",\n",
    "    \"From 50 to 249 persons employed\": \"C(50-249)\",\n",
    "    \"250 persons employed or more\": \"D(>=250)\",\n",
    "    \"10 persons employed or more\": \"E(>=10)\"\n",
    "}\n",
    "df_cleaned[\"size_emp\"] = df[\"size_emp\"].apply(lambda x: size_map[x])"
   ]
  },
  {
   "cell_type": "code",
   "execution_count": null,
   "metadata": {},
   "outputs": [],
   "source": [
    "# Filter only European Union\n",
    "df_euro_all = df_cleaned[(df_cleaned['country'].str.contains(\"Euro area\")) & (df_cleaned['size_emp'] == \"E(>=10)\")]\n",
    "df_euro_all = df_euro_all.replace(to_replace='Euro area (EA11-1999, EA12-2001, EA13-2007, EA15-2008, EA16-2009, EA17-2011, EA18-2014, EA19-2015, EA20-2023)', value=\"Euro Area\")\n",
    "df_euro_all"
   ]
  },
  {
   "cell_type": "code",
   "execution_count": 115,
   "metadata": {},
   "outputs": [],
   "source": [
    "# Filter out \"Euro area\" and \"European Union\"\n",
    "df_cleaned = df_cleaned[~df_cleaned['country'].str.contains(\"Euro\")]\n",
    "\n",
    "# df_cleaned[\"country\"].unique() # Checks "
   ]
  },
  {
   "cell_type": "code",
   "execution_count": null,
   "metadata": {},
   "outputs": [],
   "source": [
    "df_cleaned = functions.region_mapping(df_cleaned)"
   ]
  },
  {
   "cell_type": "code",
   "execution_count": 117,
   "metadata": {},
   "outputs": [],
   "source": [
    "# Creates two different dataframes\n",
    "df_sales_cat = df_cleaned[(df_cleaned[\"size_emp\"] != \"E(>=10)\") & (df_cleaned[\"size_emp\"] != \"A(1-9)\")] # Dataframe with enterprises divided in four sizes categories\n",
    "df_sales_all = df_cleaned[df_cleaned[\"size_emp\"] == \"E(>=10)\"] # Dataframe with enterprises in one categoriy encompasing all 4 previous categories"
   ]
  },
  {
   "cell_type": "code",
   "execution_count": null,
   "metadata": {},
   "outputs": [],
   "source": [
    "# Reset indexes\n",
    "df_sales_cat.reset_index(drop=True, inplace=True)\n",
    "\n",
    "df_sales_all.reset_index(drop=True, inplace=True)\n",
    "df_sales_all.drop(columns=[\"size_emp\"], inplace=True) # Delete size column as there is only one size in DF\n",
    "\n",
    "df_sales_all.head(5)\n"
   ]
  },
  {
   "cell_type": "code",
   "execution_count": 119,
   "metadata": {},
   "outputs": [],
   "source": [
    "# create a dummy function to send to the exploration notebook\n",
    "def import_df_ecommerce():\n",
    "    return (\n",
    "        df_sales_cat,\n",
    "        df_sales_all,\n",
    "        df_euro_all\n",
    "        )"
   ]
  }
 ],
 "metadata": {
  "kernelspec": {
   "display_name": "project1_venv",
   "language": "python",
   "name": "python3"
  },
  "language_info": {
   "codemirror_mode": {
    "name": "ipython",
    "version": 3
   },
   "file_extension": ".py",
   "mimetype": "text/x-python",
   "name": "python",
   "nbconvert_exporter": "python",
   "pygments_lexer": "ipython3",
   "version": "3.9.6"
  }
 },
 "nbformat": 4,
 "nbformat_minor": 4
}
