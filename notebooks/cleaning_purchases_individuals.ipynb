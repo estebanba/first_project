{
 "cells": [
  {
   "cell_type": "code",
   "execution_count": null,
   "metadata": {},
   "outputs": [],
   "source": [
    "import pandas as pd\n",
    "import matplotlib.pyplot as plt\n",
    "\n",
    "df_purchases2020 = pd.read_csv(\"../data/raw/purchases_individuals_2020.csv\")\n",
    "df_purchases2019 = pd.read_csv(\"../data/raw/purchases_individuals_2019.csv\")\n",
    "\n",
    "\n",
    "df_purchases2020"
   ]
  },
  {
   "cell_type": "code",
   "execution_count": null,
   "metadata": {},
   "outputs": [],
   "source": [
    "df_purchases2019"
   ]
  },
  {
   "cell_type": "code",
   "execution_count": null,
   "metadata": {},
   "outputs": [],
   "source": [
    "df_purchases = pd.concat([df_purchases2019, df_purchases2020], ignore_index=True) #concatenating both datasets\n",
    "\n",
    "df_purchases"
   ]
  },
  {
   "cell_type": "code",
   "execution_count": null,
   "metadata": {},
   "outputs": [],
   "source": [
    "df_purchases_cleaned = df_purchases.dropna(axis=1, how='all') #removing all columns with all NaN values\n",
    "df_purchases_cleaned = df_purchases_cleaned.dropna(axis=1, how='all') #removing all columns with all NaN values\n",
    "\n",
    "df_purchases_cleaned"
   ]
  },
  {
   "cell_type": "code",
   "execution_count": null,
   "metadata": {},
   "outputs": [],
   "source": [
    "df_purchases_cleaned[\"OBS_FLAG\"].value_counts()"
   ]
  },
  {
   "cell_type": "code",
   "execution_count": null,
   "metadata": {},
   "outputs": [],
   "source": [
    "df_purchases_cleaned_v2 = df_purchases_cleaned.drop(columns = [\"DATAFLOW\", \"LAST UPDATE\", \"freq\", \"unit\", \"OBS_FLAG\"])\n",
    "\n",
    "df_purchases_cleaned_v2"
   ]
  },
  {
   "cell_type": "code",
   "execution_count": null,
   "metadata": {},
   "outputs": [],
   "source": [
    "df_purchases_cleaned_v3 = df_purchases_cleaned_v2.pivot(index=['indic_is', \"ind_type\", 'geo'], columns='TIME_PERIOD', values='OBS_VALUE').reset_index() #pivoting to add years on columns\n",
    "\n",
    "df_purchases_cleaned_v3.columns.name = None # remove the name of the column index for better visualization\n",
    "\n",
    "df_purchases_cleaned_v3"
   ]
  },
  {
   "cell_type": "code",
   "execution_count": null,
   "metadata": {},
   "outputs": [],
   "source": [
    "df_purchases_cleaned_v3.rename(columns={\"geo\": \"country\", \"indic_is\": \"last_online_purchase\", \"ind_type\": \"grouped_individuals\"}, inplace=True)\n",
    "\n",
    "df_purchases_cleaned_v3"
   ]
  },
  {
   "cell_type": "code",
   "execution_count": null,
   "metadata": {},
   "outputs": [],
   "source": [
    "df_purchases_cleaned_v3.columns"
   ]
  },
  {
   "cell_type": "code",
   "execution_count": null,
   "metadata": {},
   "outputs": [],
   "source": [
    "df_purchases_cleaned_v3['last_online_purchase'] = df_purchases_cleaned_v3['last_online_purchase'].str.replace(\"Last online purchase: \", \"\", regex=False)\n",
    "\n",
    "df_purchases_cleaned_v3"
   ]
  },
  {
   "cell_type": "code",
   "execution_count": null,
   "metadata": {},
   "outputs": [],
   "source": [
    "df_purchases_cleaned_v3[\"last_online_purchase\"].value_counts()"
   ]
  },
  {
   "cell_type": "code",
   "execution_count": null,
   "metadata": {},
   "outputs": [],
   "source": [
    "df_purchases_cleaned_v3[\"grouped_individuals\"].value_counts()"
   ]
  },
  {
   "cell_type": "code",
   "execution_count": null,
   "metadata": {},
   "outputs": [],
   "source": [
    "# i am going to filter by \"last_online_purchase = in the 12 months\" and \"grouped_individuals = All individuals\" to have a general view\n",
    "\n",
    "df_purchases_global = df_purchases_cleaned_v3[df_purchases_cleaned_v3['last_online_purchase'] == \"in the 12 months\"]\n",
    "df_purchases_global = df_purchases_global[df_purchases_global['grouped_individuals'] == \"All individuals\"].reset_index()\n",
    "df_purchases_global = df_purchases_global.drop(columns = \"index\") # remove the column index for better visualization\n",
    "\n",
    "#also removing the values \"Euro area (EA11-1999, EA12-2001, EA13-2007, EA15-2008, EA16-2009, EA17-2011, EA18-2014, EA19-2015, EA20-2023)\" or \"European Union - 27 countries (from 2020)\"\n",
    "df_purchases_global = df_purchases_global[~df_purchases_global['country'].isin([\"Euro area (EA11-1999, EA12-2001, EA13-2007, EA15-2008, EA16-2009, EA17-2011, EA18-2014, EA19-2015, EA20-2023)\", \"European Union - 27 countries (from 2020)\"])]\n",
    "\n",
    "df_purchases_global"
   ]
  },
  {
   "cell_type": "code",
   "execution_count": null,
   "metadata": {},
   "outputs": [],
   "source": [
    "df_cleaned = df_purchases_global.drop(columns=['last_online_purchase', 'grouped_individuals']) # dropping \"last_online_purchase\" and \"grouped_individuals\" columns\t\n",
    "df_cleaned"
   ]
  },
  {
   "cell_type": "code",
   "execution_count": null,
   "metadata": {},
   "outputs": [],
   "source": [
    "df_cleaned.set_index('country', inplace=True) # set country as index\n",
    "\n",
    "df_transposed = df_cleaned.T # transposing DF to have years as rows and country as columns\n",
    "\n",
    "df_transposed.index = df_transposed.index.astype(int) # Convert the index (years) to integers for proper plotting /!\\\n",
    "\n"
   ]
  },
  {
   "cell_type": "code",
   "execution_count": null,
   "metadata": {},
   "outputs": [],
   "source": [
    "# Plot the data\n",
    "plt.figure(figsize=(14, 8))\n",
    "for country in df_transposed.columns:\n",
    "    plt.plot(df_transposed.index, df_transposed[country], label=country)\n",
    "\n",
    "# Add labels and title\n",
    "plt.xlabel('Year')\n",
    "plt.ylabel('% of Individuals realizing Online Purchases')\n",
    "plt.title('% of Individuals realizing Online Purchases by Country (2010-2024)')\n",
    "plt.legend(title='Country', bbox_to_anchor=(1.05, 1), loc='upper left')\n",
    "\n",
    "# Add grid for better readability\n",
    "plt.grid(True)\n",
    "\n",
    "# Rotate x-axis labels for better visibility\n",
    "plt.xticks(rotation=45)\n",
    "\n",
    "# Show the plot\n",
    "plt.tight_layout()\n",
    "plt.show()\n",
    "\n",
    "# This is too messy and we cannot have conclusons"
   ]
  },
  {
   "cell_type": "code",
   "execution_count": null,
   "metadata": {},
   "outputs": [],
   "source": [
    "# Lets try to simplify by grouping countries per regions\n",
    "# Define regions - thanks AI :)\n",
    "regions = {\n",
    "    'Western Europe': ['Austria', 'Belgium', 'France', 'Germany', 'Netherlands', 'Switzerland', 'Luxembourg'],\n",
    "    'Central Europe': ['Czechia', 'Hungary', 'Poland', 'Slovakia', 'Slovenia'],\n",
    "    'Northern Europe': ['Denmark', 'Finland', 'Iceland', 'Ireland', 'Norway', 'Sweden', 'United Kingdom'],\n",
    "    'Eastern Europe': ['Bulgaria', 'Croatia', 'Estonia', 'Latvia', 'Lithuania', 'Romania', 'Serbia', 'North Macedonia', 'Montenegro', 'Bosnia and Herzegovina', 'Albania', 'Kosovo*'],\n",
    "    'Southern Europe': ['Greece', 'Italy', 'Malta', 'Portugal', 'Spain', 'Cyprus', 'Türkiye']\n",
    "}\n",
    "\n",
    "df_purchases_region = df_purchases_global.copy()\n",
    "\n",
    "# Create a reverse mapping from country to region\n",
    "country_to_region = {country: region for region, countries in regions.items() for country in countries}\n",
    "\n",
    "# Add a 'region' column to the new DataFrame\n",
    "df_purchases_region['region'] = df_purchases_region['country'].map(country_to_region)\n",
    "\n",
    "# Drop unnecessary columns\n",
    "df_cleaned = df_purchases_region.drop(columns=['last_online_purchase', 'grouped_individuals'])\n",
    "\n",
    "# Group by region and calculate the mean for each year\n",
    "df_grouped = df_cleaned.groupby('region').mean(numeric_only=True).T\n",
    "\n",
    "# Convert the index (years) to integers for proper plotting\n",
    "df_grouped.index = df_grouped.index.astype(int)\n",
    "\n",
    "df_grouped"
   ]
  },
  {
   "cell_type": "code",
   "execution_count": null,
   "metadata": {},
   "outputs": [],
   "source": [
    "# Plot the data\n",
    "plt.figure(figsize=(14, 8))\n",
    "for region in df_grouped.columns:\n",
    "    plt.plot(df_grouped.index, df_grouped[region], marker='o', label=region)\n",
    "\n",
    "# Add labels and title\n",
    "plt.xlabel('Year')\n",
    "plt.ylabel('% of Individuals realizing Online Purchases')\n",
    "plt.title('% of Individuals realizing Online Purchases by European Region (2010-2024)')\n",
    "plt.legend(title='Region', loc='upper left')\n",
    "\n",
    "# Add grid for better readability\n",
    "plt.grid(True)\n",
    "\n",
    "# Rotate x-axis labels for better visibility\n",
    "plt.xticks(rotation=45)\n",
    "\n",
    "# Show the plot\n",
    "plt.tight_layout()\n",
    "plt.show()\n",
    "\n",
    "# This one is looking good, maybe we can cross-check it with connection availability :)"
   ]
  },
  {
   "cell_type": "code",
   "execution_count": null,
   "metadata": {},
   "outputs": [],
   "source": [
    "import seaborn as sns\n",
    "\n",
    "# Transform DataFrame to a suitable format for a heatmap\n",
    "heatmap_data = df_purchases_global.set_index('country').iloc[:, 3:]  # slice to get only year columns\n",
    "\n",
    "plt.figure(figsize=(12, 8))\n",
    "sns.heatmap(heatmap_data, cmap='Blues', annot=False)\n",
    "plt.title('Online Purchases Heatmap by Country and Year')\n",
    "plt.show()\n"
   ]
  },
  {
   "cell_type": "code",
   "execution_count": null,
   "metadata": {},
   "outputs": [],
   "source": [
    "df_purchases_global.columns = df_purchases_global.columns.astype(str)\n",
    "df_2020 = df_purchases_global[['country', '2020']].dropna().sort_values('2020', ascending=False)\n",
    "\n",
    "plt.figure(figsize=(10, 6))\n",
    "sns.barplot(x='2020', y='country', data=df_2020)\n",
    "plt.xlabel('Percentage of Online Purchases in 2020')\n",
    "plt.title('Online Purchases by Country in 2020')\n",
    "plt.show()"
   ]
  },
  {
   "cell_type": "code",
   "execution_count": null,
   "metadata": {},
   "outputs": [],
   "source": [
    "# now time to check how education level affects this"
   ]
  },
  {
   "cell_type": "code",
   "execution_count": null,
   "metadata": {},
   "outputs": [],
   "source": [
    "df_purchases_cleaned_v3"
   ]
  },
  {
   "cell_type": "code",
   "execution_count": null,
   "metadata": {},
   "outputs": [],
   "source": [
    "df_purchases_cleaned_v3[\"grouped_individuals\"].value_counts()"
   ]
  },
  {
   "cell_type": "code",
   "execution_count": null,
   "metadata": {},
   "outputs": [],
   "source": [
    "# i am going to filter by \"last_online_purchase = in the 12 months\" and \"grouped_individuals = educations\" to have the detail\n",
    "educationlevel = [\"Individuals aged 16-24 with high formal education\", \"Individuals aged 16-24 with low education\", \"Individuals aged 16-24 with medium formal education\", \"Individuals aged 25 to 54 with high formal education\", \"Individuals aged 25 to 54 with low formal education\", \"Individuals aged 25 to 54 with medium formal education\", \"Individuals aged 55 to 74 with high formal education\", \"Individuals aged 55 to 74 with low formal education\", \"Individuals aged 55 to 74 with medium formal education\"]\n",
    "\n",
    "df_purchases_education = df_purchases_cleaned_v3[df_purchases_cleaned_v3['last_online_purchase'] == \"in the 12 months\"]\n",
    "df_purchases_education = df_purchases_education[df_purchases_education['grouped_individuals'].isin(educationlevel)].reset_index(drop=True)\n",
    "\n",
    "#also removing the values \"Euro area (EA11-1999, EA12-2001, EA13-2007, EA15-2008, EA16-2009, EA17-2011, EA18-2014, EA19-2015, EA20-2023)\" or \"European Union - 27 countries (from 2020)\"\n",
    "df_purchases_education = df_purchases_education[~df_purchases_education['country'].isin([\"Euro area (EA11-1999, EA12-2001, EA13-2007, EA15-2008, EA16-2009, EA17-2011, EA18-2014, EA19-2015, EA20-2023)\", \"European Union - 27 countries (from 2020)\"])]\n",
    "\n",
    "df_purchases_education = df_purchases_education.drop(columns=\"last_online_purchase\") # drop last_online_purchase column\n",
    "\n",
    "df_purchases_education"
   ]
  },
  {
   "cell_type": "code",
   "execution_count": null,
   "metadata": {},
   "outputs": [],
   "source": [
    "df_purchases_education[\"grouped_individuals\"].value_counts()"
   ]
  },
  {
   "cell_type": "code",
   "execution_count": null,
   "metadata": {},
   "outputs": [],
   "source": [
    "# Lets try to group by education level low - medium - high\n",
    "# Define education\n",
    "education = {\n",
    "    'Low': ['Individuals aged 16-24 with low education', 'Individuals aged 25 to 54 with low formal education', 'Individuals aged 55 to 74 with low formal education'],\n",
    "    'Medium': ['Individuals aged 16-24 with medium formal education', 'Individuals aged 25 to 54 with medium formal education', 'Individuals aged 55 to 74 with medium formal education'],\n",
    "    'High': ['Individuals aged 16-24 with high formal education', 'Individuals aged 25 to 54 with high formal education', 'Individuals aged 55 to 74 with high formal education'],\n",
    "}\n",
    "\n",
    "df_purchases_edugrouped = df_purchases_education.copy() # Reverse mapping from education description to level /!\\\n",
    "\n",
    "education_to_level = {education_desc: level for level, descriptions in education.items() for education_desc in descriptions}\n",
    "\n",
    "# Add a new 'education_level' column using the mapping\n",
    "df_purchases_edugrouped['education_level'] = df_purchases_edugrouped['grouped_individuals'].map(education_to_level)\n",
    "\n",
    "df_cleaned2 = df_purchases_edugrouped.drop(columns='grouped_individuals') # Drop no needed columns\n",
    "\n",
    "df_grouped2 = df_cleaned2.groupby('education_level').mean(numeric_only=True).T # Group by the 'education_level' and calculate the mean for each year\n",
    "\n",
    "df_grouped2.index = df_grouped2.index.astype(int) # Convert the index (years) to integers for proper plotting\n",
    "\n",
    "df_grouped2"
   ]
  },
  {
   "cell_type": "code",
   "execution_count": null,
   "metadata": {},
   "outputs": [],
   "source": [
    "# Define the DataFrame (assuming df_grouped2 is already created as you described)\n",
    "# Columns are 'High', 'Low', 'Medium' and index are the years\n",
    "\n",
    "plt.figure(figsize=(14, 8))\n",
    "\n",
    "# Iterate over each education level and plot its respective line on the graph\n",
    "for education_level in df_grouped2.columns:\n",
    "    plt.plot(df_grouped2.index, df_grouped2[education_level], marker='o', label=education_level)\n",
    "\n",
    "# Add labels and a title\n",
    "plt.xlabel('Year')\n",
    "plt.ylabel('% of Individuals Realizing Online Purchases')\n",
    "plt.title('% of Individuals Realizing Online Purchases by Education Level (2010-2024)')\n",
    "\n",
    "# Add a legend to identify education levels in the plot\n",
    "plt.legend(title='Education Level', loc='upper left')\n",
    "\n",
    "# Add a grid to improve readability\n",
    "plt.grid(True)\n",
    "\n",
    "# Rotate x-axis labels for better visibility\n",
    "plt.xticks(rotation=45)\n",
    "\n",
    "# Optimize layout to prevent clipping\n",
    "plt.tight_layout()\n",
    "\n",
    "# Display the plot\n",
    "plt.show()"
   ]
  },
  {
   "cell_type": "code",
   "execution_count": null,
   "metadata": {},
   "outputs": [],
   "source": [
    "# want to do the same grouping per ages, just in case we detect something interesting:"
   ]
  },
  {
   "cell_type": "code",
   "execution_count": null,
   "metadata": {},
   "outputs": [],
   "source": [
    "# removing all row values that add have more info than just group age.\n",
    "# list with the values to keep:\n",
    "age_groups = [\"Individuals, 16 to 24 years old\", \"Individuals, 25 to 34 years old\", \"Individuals, 35 to 44 years old\", \"Individuals, 45 to 54 years old\", \"Individuals, 55 to 64 years old\", \"Individuals, 65 to 74 years old\"]\n",
    "\n",
    "df_purchases_agegrouped = df_purchases_cleaned_v3[df_purchases_cleaned_v3['last_online_purchase'] == \"in the 12 months\"]\n",
    "df_purchases_agegrouped = df_purchases_agegrouped[df_purchases_agegrouped['grouped_individuals'].isin(age_groups)].reset_index(drop=True)\n",
    "\n",
    "df_purchases_agegrouped = df_purchases_agegrouped.drop(columns='last_online_purchase') # Drop no needed columns\n",
    "\n",
    "#also removing the values \"Euro area (EA11-1999, EA12-2001, EA13-2007, EA15-2008, EA16-2009, EA17-2011, EA18-2014, EA19-2015, EA20-2023)\" or \"European Union - 27 countries (from 2020)\"\n",
    "df_purchases_agegrouped = df_purchases_agegrouped[~df_purchases_agegrouped['country'].isin([\"Euro area (EA11-1999, EA12-2001, EA13-2007, EA15-2008, EA16-2009, EA17-2011, EA18-2014, EA19-2015, EA20-2023)\", \"European Union - 27 countries (from 2020)\"])]\n",
    "\n",
    "\n",
    "df_purchases_agegrouped"
   ]
  },
  {
   "cell_type": "code",
   "execution_count": null,
   "metadata": {},
   "outputs": [],
   "source": [
    "# I am detecting that those NaN seem to be values = 0 in most of cases so going to fill those NaN with 0:\n",
    "df_purchases_agegrouped.fillna(0, inplace=True)"
   ]
  },
  {
   "cell_type": "code",
   "execution_count": null,
   "metadata": {},
   "outputs": [],
   "source": [
    "# going to group by grouped_individuals mean:\n",
    "df_age_meanvalues = df_purchases_agegrouped.groupby('grouped_individuals').mean(numeric_only=True)\n",
    "\n",
    "df_age_meanvalues"
   ]
  },
  {
   "cell_type": "code",
   "execution_count": null,
   "metadata": {},
   "outputs": [],
   "source": [
    "df_age_meanvalues = df_age_meanvalues.T # TRANSPOSING!"
   ]
  },
  {
   "cell_type": "code",
   "execution_count": null,
   "metadata": {},
   "outputs": [],
   "source": [
    "# Plotting\n",
    "plt.figure(figsize=(12, 8))\n",
    "for column in df_age_meanvalues.columns:\n",
    "    plt.plot(df_age_meanvalues.index, df_age_meanvalues[column], marker='o', label=column)\n",
    "\n",
    "# Add labels and title\n",
    "plt.xlabel('Year')\n",
    "plt.ylabel('Value')\n",
    "plt.title('Line Graph of Values by Age Group (2010-2024)')\n",
    "plt.legend(title='Age Group', bbox_to_anchor=(1.05, 1), loc='upper left')\n",
    "plt.grid(True)\n",
    "plt.xticks(rotation=45)\n",
    "plt.tight_layout()\n",
    "\n",
    "# Show plot\n",
    "plt.show()"
   ]
  },
  {
   "cell_type": "code",
   "execution_count": null,
   "metadata": {},
   "outputs": [],
   "source": [
    "# Individuals living in cities\n",
    "# Individuals living in rural areas \n",
    "# Individuals living in towns and suburbs\n",
    "# we can use that to compare it with the available conectivity"
   ]
  },
  {
   "cell_type": "code",
   "execution_count": null,
   "metadata": {},
   "outputs": [],
   "source": [
    "# list with the values to keep:\n",
    "living_area = [\"Individuals living in cities\", \"Individuals living in rural areas\", \"Individuals living in towns and suburbs\"]\n",
    "\n",
    "df_purchases_livinggroup = df_purchases_cleaned_v3[df_purchases_cleaned_v3['last_online_purchase'] == \"in the 12 months\"]\n",
    "df_purchases_livinggroup = df_purchases_livinggroup[df_purchases_livinggroup['grouped_individuals'].isin(living_area)].reset_index(drop=True)\n",
    "\n",
    "df_purchases_livinggroup = df_purchases_livinggroup.drop(columns='last_online_purchase') # Drop no needed columns\n",
    "\n",
    "#also removing the values \"Euro area (EA11-1999, EA12-2001, EA13-2007, EA15-2008, EA16-2009, EA17-2011, EA18-2014, EA19-2015, EA20-2023)\" or \"European Union - 27 countries (from 2020)\"\n",
    "df_purchases_livinggroup = df_purchases_livinggroup[~df_purchases_livinggroup['country'].isin([\"Euro area (EA11-1999, EA12-2001, EA13-2007, EA15-2008, EA16-2009, EA17-2011, EA18-2014, EA19-2015, EA20-2023)\", \"European Union - 27 countries (from 2020)\"])]\n",
    "\n",
    "\n",
    "df_purchases_livinggroup"
   ]
  },
  {
   "cell_type": "code",
   "execution_count": null,
   "metadata": {},
   "outputs": [],
   "source": [
    "# going to group by grouped_individuals mean:\n",
    "df_living_meanvalues = df_purchases_livinggroup.groupby('grouped_individuals').mean(numeric_only=True)\n",
    "\n",
    "df_living_meanvalues"
   ]
  },
  {
   "cell_type": "code",
   "execution_count": null,
   "metadata": {},
   "outputs": [],
   "source": [
    "df_living_meanvalues = df_living_meanvalues.T # TRANSPOSING!"
   ]
  },
  {
   "cell_type": "code",
   "execution_count": null,
   "metadata": {},
   "outputs": [],
   "source": [
    "# Plotting\n",
    "plt.figure(figsize=(12, 8))\n",
    "for column in df_living_meanvalues.columns:\n",
    "    plt.plot(df_living_meanvalues.index, df_living_meanvalues[column], marker='o', label=column)\n",
    "\n",
    "# Add labels and title\n",
    "plt.xlabel('Year')\n",
    "plt.ylabel('Value')\n",
    "plt.title('Line Graph of Values by Living Area (2010-2024)')\n",
    "plt.legend(title='Living Area Group', bbox_to_anchor=(1.05, 1), loc='upper left')\n",
    "plt.grid(True)\n",
    "plt.xticks(rotation=45)\n",
    "plt.tight_layout()\n",
    "\n",
    "# Show plot\n",
    "plt.show()"
   ]
  },
  {
   "cell_type": "code",
   "execution_count": null,
   "metadata": {},
   "outputs": [],
   "source": [
    "# in case we want to have the main data source filtered by European regions:\n",
    "\n",
    "df_per_region = df_purchases_cleaned_v3.copy()\n",
    "\n",
    "# Create a reverse mapping from country to region\n",
    "country_to_region = {country: region for region, countries in regions.items() for country in countries}\n",
    "\n",
    "# Add a 'region' column to the new DataFrame\n",
    "df_per_region['region'] = df_per_region['country'].map(country_to_region)\n",
    "\n",
    "\n",
    "df_per_region"
   ]
  },
  {
   "cell_type": "code",
   "execution_count": null,
   "metadata": {},
   "outputs": [],
   "source": [
    "df_per_region[\"grouped_individuals\"].value_counts()"
   ]
  },
  {
   "cell_type": "code",
   "execution_count": null,
   "metadata": {},
   "outputs": [],
   "source": [
    "#testing something\n",
    "df_per_regionall = df_per_region[df_per_region['last_online_purchase'] == \"in the 12 months\"]\n",
    "df_per_regionall = df_per_regionall.drop(columns = \"last_online_purchase\") # remove the extra columns\n",
    "df_per_regionall = df_per_regionall[~df_per_regionall['country'].isin([\"Euro area (EA11-1999, EA12-2001, EA13-2007, EA15-2008, EA16-2009, EA17-2011, EA18-2014, EA19-2015, EA20-2023)\", \"European Union - 27 countries (from 2020)\"])]\n",
    "df_per_regionall = df_per_regionall[df_per_regionall['grouped_individuals'].isin(living_area)].reset_index(drop=True)\n",
    "\n",
    "df_per_regionall"
   ]
  },
  {
   "cell_type": "code",
   "execution_count": null,
   "metadata": {},
   "outputs": [],
   "source": []
  }
 ],
 "metadata": {
  "kernelspec": {
   "display_name": "env1",
   "language": "python",
   "name": "env1"
  },
  "language_info": {
   "codemirror_mode": {
    "name": "ipython",
    "version": 3
   },
   "file_extension": ".py",
   "mimetype": "text/x-python",
   "name": "python",
   "nbconvert_exporter": "python",
   "pygments_lexer": "ipython3",
   "version": "3.12.7"
  }
 },
 "nbformat": 4,
 "nbformat_minor": 4
}
