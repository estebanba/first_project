{
 "cells": [
  {
   "cell_type": "code",
   "execution_count": null,
   "metadata": {},
   "outputs": [],
   "source": [
    "import pandas as pd\n",
    "import matplotlib.pyplot as plt\n",
    "\n",
    "df_purchases2020 = pd.read_csv(\"../data/raw/purchases_individuals_2020.csv\")\n",
    "df_purchases2019 = pd.read_csv(\"../data/raw/purchases_individuals_2019.csv\")"
   ]
  },
  {
   "cell_type": "code",
   "execution_count": null,
   "metadata": {},
   "outputs": [],
   "source": [
    "df_purchases = pd.concat([df_purchases2019, df_purchases2020], ignore_index=True) #concatenating both datasets\n",
    "\n",
    "df_purchases"
   ]
  },
  {
   "cell_type": "code",
   "execution_count": null,
   "metadata": {},
   "outputs": [],
   "source": [
    "def empty_cleaner(df):\n",
    "    df_cleaned = df.dropna(axis=1, how='all') #removing all columns with all NaN values\n",
    "    df_cleaned = df_cleaned.dropna(axis=1, how='all') #removing all columns with all NaN values\n",
    "    return df_cleaned\n",
    "    \n",
    "df_purchases_cleaned = empty_cleaner(df_purchases) # apply the cleanning function\n",
    "\n",
    "df_purchases_cleaned"
   ]
  },
  {
   "cell_type": "code",
   "execution_count": null,
   "metadata": {},
   "outputs": [],
   "source": [
    "df_purchases_cleaned[\"OBS_FLAG\"].value_counts() # checking values on OBS_FLAG"
   ]
  },
  {
   "cell_type": "code",
   "execution_count": null,
   "metadata": {},
   "outputs": [],
   "source": [
    "df_purchases_cleaned_v2 = df_purchases_cleaned.drop(columns = [\"DATAFLOW\", \"LAST UPDATE\", \"freq\", \"unit\", \"OBS_FLAG\"]) # dropping not required columns\n",
    "\n",
    "df_purchases_cleaned_v2['indic_is'] = df_purchases_cleaned_v2['indic_is'].str.replace(\"Last online purchase: \", \"\", regex=False) # removing \"Last online purchase: \" from column indic_is\n",
    "\n",
    "df_purchases_cleaned_v2"
   ]
  },
  {
   "cell_type": "code",
   "execution_count": null,
   "metadata": {},
   "outputs": [],
   "source": [
    "df_purchases_cleaned_v3 = df_purchases_cleaned_v2.pivot(index=['indic_is', \"ind_type\", 'geo'], columns='TIME_PERIOD', values='OBS_VALUE').reset_index() #pivoting to add years on columns\n",
    "\n",
    "df_purchases_cleaned_v3.columns.name = None # remove the name of the column index for better visualization\n",
    "\n",
    "df_purchases_cleaned_v3.rename(columns={\"geo\": \"country\", \"indic_is\": \"last_online_purchase\", \"ind_type\": \"grouped_individuals\"}, inplace=True) # better names on columns :)\n",
    "\n",
    "#also removing the values \"Euro area (EA11-1999, EA12-2001, EA13-2007, EA15-2008, EA16-2009, EA17-2011, EA18-2014, EA19-2015, EA20-2023)\" or \"European Union - 27 countries (from 2020)\"\n",
    "df_purchases_cleaned_v3 = df_purchases_cleaned_v3[~df_purchases_cleaned_v3['country'].isin([\"Euro area (EA11-1999, EA12-2001, EA13-2007, EA15-2008, EA16-2009, EA17-2011, EA18-2014, EA19-2015, EA20-2023)\", \"European Union - 27 countries (from 2020)\"])]\n",
    "\n",
    "\n",
    "df_purchases_cleaned_v3"
   ]
  },
  {
   "cell_type": "code",
   "execution_count": null,
   "metadata": {},
   "outputs": [],
   "source": [
    "# in case we want to have the main data source filtered by European regions:\n",
    "\n",
    "df_per_region = df_purchases_cleaned_v3.copy()\n",
    "\n",
    "from dictionaries import regions # importing regions dictionary from dictionaries.py\n",
    "\n",
    "# Create a reverse mapping from country to region\n",
    "country_to_region = {country: region for region, countries in regions.items() for country in countries}\n",
    "\n",
    "# Add a 'region' column to the new DataFrame\n",
    "df_per_region['region'] = df_per_region['country'].map(country_to_region)\n",
    "\n",
    "\n",
    "df_per_region"
   ]
  },
  {
   "cell_type": "code",
   "execution_count": null,
   "metadata": {},
   "outputs": [],
   "source": [
    "# create a dummy function to send to the exploration notebook -Esteban <3\n",
    "def import_df():\n",
    "    return df_purchases_cleaned_v3, df_per_region"
   ]
  },
  {
   "cell_type": "code",
   "execution_count": null,
   "metadata": {},
   "outputs": [],
   "source": []
  }
 ],
 "metadata": {
  "kernelspec": {
   "display_name": "project1_venv",
   "language": "python",
   "name": "project1_venv"
  },
  "language_info": {
   "codemirror_mode": {
    "name": "ipython",
    "version": 3
   },
   "file_extension": ".py",
   "mimetype": "text/x-python",
   "name": "python",
   "nbconvert_exporter": "python",
   "pygments_lexer": "ipython3",
   "version": "3.12.7"
  }
 },
 "nbformat": 4,
 "nbformat_minor": 4
}
