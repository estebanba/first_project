{
 "cells": [
  {
   "cell_type": "code",
   "execution_count": null,
   "id": "04db0e33-0a27-44bc-9422-5963410b0a1e",
   "metadata": {},
   "outputs": [],
   "source": [
    "%run cleaning_purchases_individuals.ipynb\n",
    "df_purchases_cleaned_v3, df_per_region = import_df() # type: ignore\n",
    "\n",
    "import seaborn as sns"
   ]
  },
  {
   "cell_type": "code",
   "execution_count": null,
   "id": "fe2872ed-7811-4d10-a325-d879c5e58406",
   "metadata": {},
   "outputs": [],
   "source": [
    "# i am going to filter by \"last_online_purchase = in the 12 months\" and \"grouped_individuals = All individuals\" to have a general view\n",
    "\n",
    "df_purchases_global = df_purchases_cleaned_v3[df_purchases_cleaned_v3['last_online_purchase'] == \"in the 12 months\"]\n",
    "df_purchases_global = df_purchases_global[df_purchases_global['grouped_individuals'] == \"All individuals\"].reset_index()\n",
    "df_purchases_global = df_purchases_global.drop(columns = \"index\") # remove the column index for better visualization"
   ]
  },
  {
   "cell_type": "code",
   "execution_count": null,
   "id": "5db6221f-9579-4489-a51c-a631ac524329",
   "metadata": {},
   "outputs": [],
   "source": [
    "df_cleaned = df_purchases_global.drop(columns=['last_online_purchase', 'grouped_individuals']) # dropping \"last_online_purchase\" and \"grouped_individuals\" columns\t"
   ]
  },
  {
   "cell_type": "code",
   "execution_count": null,
   "id": "25110e0a-ea09-4d06-9d14-549874dc61bf",
   "metadata": {},
   "outputs": [],
   "source": [
    "df_cleaned.set_index('country', inplace=True) # set country as index\n",
    "\n",
    "df_transposed = df_cleaned.T # transposing DF to have years as rows and country as columns\n",
    "\n",
    "df_transposed.index = df_transposed.index.astype(int) # Convert the index (years) to integers for proper plotting /!\\"
   ]
  },
  {
   "cell_type": "code",
   "execution_count": null,
   "id": "f19dcb4c-d091-41d1-b2b1-543941bd21a0",
   "metadata": {},
   "outputs": [],
   "source": [
    "# Plot the data\n",
    "plt.figure(figsize=(14, 8))\n",
    "for country in df_transposed.columns:\n",
    "    plt.plot(df_transposed.index, df_transposed[country], label=country)\n",
    "\n",
    "# Add labels and title\n",
    "plt.xlabel('Year')\n",
    "plt.ylabel('% of Individuals realizing Online Purchases')\n",
    "plt.title('% of Individuals realizing Online Purchases by Country (2010-2024)')\n",
    "plt.legend(title='Country', bbox_to_anchor=(1.05, 1), loc='upper left')\n",
    "\n",
    "# Add grid for better readability\n",
    "plt.grid(True)\n",
    "\n",
    "# Rotate x-axis labels for better visibility\n",
    "plt.xticks(rotation=45)\n",
    "\n",
    "# Show the plot\n",
    "plt.tight_layout()\n",
    "plt.show()\n",
    "\n",
    "# This is too messy and we cannot have conclusons"
   ]
  },
  {
   "cell_type": "markdown",
   "id": "1a83ca15-5ef8-4273-a169-2d1ffd08059e",
   "metadata": {},
   "source": [
    "# % of Individuals realizing Online Purchases by European Region (2010-2024)"
   ]
  },
  {
   "cell_type": "code",
   "execution_count": null,
   "id": "69529751-4ab7-40ff-afd7-d570f90d242a",
   "metadata": {},
   "outputs": [],
   "source": [
    "# Lets try to simplify by grouping countries per regions\n",
    "\n",
    "# Drop unnecessary columns\n",
    "df_cleaned = df_per_region.drop(columns=['last_online_purchase', 'grouped_individuals'])\n",
    "\n",
    "# Group by region and calculate the mean for each year\n",
    "df_grouped = df_cleaned.groupby('region').mean(numeric_only=True).T\n",
    "\n",
    "# Convert the index (years) to integers for proper plotting\n",
    "df_grouped.index = df_grouped.index.astype(int)\n",
    "\n",
    "df_grouped"
   ]
  },
  {
   "cell_type": "code",
   "execution_count": null,
   "id": "2a292fcc-0a93-432d-bb87-861ebb0fe849",
   "metadata": {},
   "outputs": [],
   "source": [
    "# Plot the data\n",
    "plt.figure(figsize=(14, 8))\n",
    "for region in df_grouped.columns:\n",
    "    plt.plot(df_grouped.index, df_grouped[region], marker='o', label=region)\n",
    "\n",
    "# Add labels and title\n",
    "plt.xlabel('Year')\n",
    "plt.ylabel('% of Individuals realizing Online Purchases')\n",
    "plt.title('% of Individuals realizing Online Purchases by European Region (2010-2024)')\n",
    "plt.legend(title='Region', loc='upper left')\n",
    "\n",
    "# Add grid for better readability\n",
    "plt.grid(True)\n",
    "\n",
    "# Rotate x-axis labels for better visibility\n",
    "plt.xticks(rotation=45)\n",
    "\n",
    "# Show the plot\n",
    "plt.tight_layout()\n",
    "plt.show()\n",
    "\n",
    "# This one is looking good, maybe we can cross-check it with connection availability :)"
   ]
  },
  {
   "cell_type": "markdown",
   "id": "b9d56f1c-f6b0-4b47-9e3e-d6b8bc058776",
   "metadata": {},
   "source": [
    "# % Individuals purchasing online on all EU countries - Year Pick"
   ]
  },
  {
   "cell_type": "code",
   "execution_count": null,
   "id": "0fd97916-0203-4528-aed3-79d4c8574e6b",
   "metadata": {},
   "outputs": [],
   "source": [
    "def purchasing_year(year):\n",
    "    df_purchases_global.columns = df_purchases_global.columns.astype(str)\n",
    "    df_purchasingyear = df_purchases_global[['country', year]].dropna().sort_values(year, ascending=False)\n",
    "\n",
    "    plt.figure(figsize=(10, 6))\n",
    "    sns.barplot(x='2020', y='country', data=df_2020) # SEABORN!\n",
    "    plt.xlabel('Percentage of Individuals purchasing online at least once')\n",
    "    plt.title(f'% Individuals purchasing online in {year}')\n",
    "    print(plt.show())"
   ]
  },
  {
   "cell_type": "code",
   "execution_count": null,
   "id": "5d394b93-c174-414a-ae9a-d646d6b3619a",
   "metadata": {},
   "outputs": [],
   "source": [
    "purchasing_year(\"2020\")"
   ]
  },
  {
   "cell_type": "markdown",
   "id": "22f24d22-7714-4594-989c-291fd99deae6",
   "metadata": {},
   "source": [
    "# Education level"
   ]
  },
  {
   "cell_type": "code",
   "execution_count": null,
   "id": "4e9f0167-9841-43d3-a061-df8752eb6414",
   "metadata": {},
   "outputs": [],
   "source": [
    "# i am going to filter by \"last_online_purchase = in the 12 months\" and \"grouped_individuals = educations\" to have the detail\n",
    "educationlevel = [\"Individuals aged 16-24 with high formal education\", \"Individuals aged 16-24 with low education\", \"Individuals aged 16-24 with medium formal education\", \"Individuals aged 25 to 54 with high formal education\", \"Individuals aged 25 to 54 with low formal education\", \"Individuals aged 25 to 54 with medium formal education\", \"Individuals aged 55 to 74 with high formal education\", \"Individuals aged 55 to 74 with low formal education\", \"Individuals aged 55 to 74 with medium formal education\"]\n",
    "\n",
    "df_purchases_education = df_purchases_cleaned_v3[df_purchases_cleaned_v3['last_online_purchase'] == \"in the 12 months\"]\n",
    "df_purchases_education = df_purchases_education[df_purchases_education['grouped_individuals'].isin(educationlevel)].reset_index(drop=True)\n",
    "\n",
    "#also removing the values \"Euro area (EA11-1999, EA12-2001, EA13-2007, EA15-2008, EA16-2009, EA17-2011, EA18-2014, EA19-2015, EA20-2023)\" or \"European Union - 27 countries (from 2020)\"\n",
    "df_purchases_education = df_purchases_education[~df_purchases_education['country'].isin([\"Euro area (EA11-1999, EA12-2001, EA13-2007, EA15-2008, EA16-2009, EA17-2011, EA18-2014, EA19-2015, EA20-2023)\", \"European Union - 27 countries (from 2020)\"])]\n",
    "\n",
    "df_purchases_education = df_purchases_education.drop(columns=\"last_online_purchase\") # drop last_online_purchase column\n",
    "\n",
    "df_purchases_education"
   ]
  },
  {
   "cell_type": "code",
   "execution_count": null,
   "id": "18e279c7-d320-493e-be8c-62bb3dd2e9d2",
   "metadata": {},
   "outputs": [],
   "source": [
    "df_purchases_education[\"grouped_individuals\"].value_counts()"
   ]
  },
  {
   "cell_type": "code",
   "execution_count": null,
   "id": "e351e453-9885-4f63-97b6-fa49cea3a57c",
   "metadata": {},
   "outputs": [],
   "source": [
    "# Lets try to group by education level low - medium - high\n",
    "# Define education\n",
    "from dictionaries import education # importing education dictionary from dictionaries.py\n",
    "\n",
    "\n",
    "df_purchases_edugrouped = df_purchases_education.copy() # Reverse mapping from education description to level /!\\\n",
    "\n",
    "education_to_level = {education_desc: level for level, descriptions in education.items() for education_desc in descriptions}\n",
    "\n",
    "# Add a new 'education_level' column using the mapping\n",
    "df_purchases_edugrouped['education_level'] = df_purchases_edugrouped['grouped_individuals'].map(education_to_level)\n",
    "\n",
    "df_cleaned2 = df_purchases_edugrouped.drop(columns='grouped_individuals') # Drop no needed columns\n",
    "\n",
    "df_grouped2 = df_cleaned2.groupby('education_level').mean(numeric_only=True).T # Group by the 'education_level' and calculate the mean for each year\n",
    "\n",
    "df_grouped2.index = df_grouped2.index.astype(int) # Convert the index (years) to integers for proper plotting\n",
    "\n",
    "df_grouped2"
   ]
  },
  {
   "cell_type": "code",
   "execution_count": null,
   "id": "6fe50139-9f78-4766-b161-321ce7798128",
   "metadata": {},
   "outputs": [],
   "source": [
    "# Define the DataFrame (assuming df_grouped2 is already created as you described)\n",
    "# Columns are 'High', 'Low', 'Medium' and index are the years\n",
    "\n",
    "plt.figure(figsize=(14, 8))\n",
    "\n",
    "# Iterate over each education level and plot its respective line on the graph\n",
    "for education_level in df_grouped2.columns:\n",
    "    plt.plot(df_grouped2.index, df_grouped2[education_level], marker='o', label=education_level)\n",
    "\n",
    "# Add labels and a title\n",
    "plt.xlabel('Year')\n",
    "plt.ylabel('% of Individuals Realizing Online Purchases')\n",
    "plt.title('% of Individuals Realizing Online Purchases by Education Level (2010-2024)')\n",
    "\n",
    "# Add a legend to identify education levels in the plot\n",
    "plt.legend(title='Education Level', loc='upper left')\n",
    "\n",
    "# Add a grid to improve readability\n",
    "plt.grid(True)\n",
    "\n",
    "# Rotate x-axis labels for better visibility\n",
    "plt.xticks(rotation=45)\n",
    "\n",
    "# Optimize layout to prevent clipping\n",
    "plt.tight_layout()\n",
    "\n",
    "# Display the plot\n",
    "plt.show()"
   ]
  },
  {
   "cell_type": "markdown",
   "id": "0fe6a2b2-2d50-4d1c-9056-d011e5a2ed0d",
   "metadata": {},
   "source": [
    "# Grouping per ages"
   ]
  },
  {
   "cell_type": "code",
   "execution_count": null,
   "id": "63b0be2f-41a4-4c66-a7b3-37eb8676ec6a",
   "metadata": {},
   "outputs": [],
   "source": [
    "# removing all row values that add have more info than just group age.\n",
    "# list with the values to keep:\n",
    "age_groups = [\"Individuals, 16 to 24 years old\", \"Individuals, 25 to 34 years old\", \"Individuals, 35 to 44 years old\", \"Individuals, 45 to 54 years old\", \"Individuals, 55 to 64 years old\", \"Individuals, 65 to 74 years old\"]\n",
    "\n",
    "df_purchases_agegrouped = df_purchases_cleaned_v3[df_purchases_cleaned_v3['last_online_purchase'] == \"in the 12 months\"]\n",
    "df_purchases_agegrouped = df_purchases_agegrouped[df_purchases_agegrouped['grouped_individuals'].isin(age_groups)].reset_index(drop=True)\n",
    "\n",
    "df_purchases_agegrouped = df_purchases_agegrouped.drop(columns='last_online_purchase') # Drop no needed columns\n",
    "\n",
    "#also removing the values \"Euro area (EA11-1999, EA12-2001, EA13-2007, EA15-2008, EA16-2009, EA17-2011, EA18-2014, EA19-2015, EA20-2023)\" or \"European Union - 27 countries (from 2020)\"\n",
    "df_purchases_agegrouped = df_purchases_agegrouped[~df_purchases_agegrouped['country'].isin([\"Euro area (EA11-1999, EA12-2001, EA13-2007, EA15-2008, EA16-2009, EA17-2011, EA18-2014, EA19-2015, EA20-2023)\", \"European Union - 27 countries (from 2020)\"])]\n",
    "\n",
    "\n",
    "df_purchases_agegrouped"
   ]
  },
  {
   "cell_type": "code",
   "execution_count": null,
   "id": "7e2af014-ef05-4ff3-b96c-62272dab8523",
   "metadata": {},
   "outputs": [],
   "source": [
    "# I am detecting that those NaN seem to be values = 0 in most of cases so going to fill those NaN with 0:\n",
    "df_purchases_agegrouped.fillna(0, inplace=True)"
   ]
  },
  {
   "cell_type": "code",
   "execution_count": null,
   "id": "4cc3e865-1301-4b9b-847e-2fa3bda984b1",
   "metadata": {},
   "outputs": [],
   "source": [
    "# going to group by grouped_individuals mean:\n",
    "df_age_meanvalues = df_purchases_agegrouped.groupby('grouped_individuals').mean(numeric_only=True)\n",
    "\n",
    "df_age_meanvalues"
   ]
  },
  {
   "cell_type": "code",
   "execution_count": null,
   "id": "45222d21-e290-4d4f-b77b-dcd2413d7304",
   "metadata": {},
   "outputs": [],
   "source": [
    "df_age_meanvalues = df_age_meanvalues.T # TRANSPOSING for plotting!"
   ]
  },
  {
   "cell_type": "code",
   "execution_count": null,
   "id": "53bcd981-b7a6-4dab-9994-27478894fa10",
   "metadata": {},
   "outputs": [],
   "source": [
    "# Plotting\n",
    "plt.figure(figsize=(12, 8))\n",
    "for column in df_age_meanvalues.columns:\n",
    "    plt.plot(df_age_meanvalues.index, df_age_meanvalues[column], marker='o', label=column)\n",
    "\n",
    "# Add labels and title\n",
    "plt.xlabel('Year')\n",
    "plt.ylabel('Value')\n",
    "plt.title('Line Graph of Values by Age Group (2010-2024)')\n",
    "plt.legend(title='Age Group', bbox_to_anchor=(1.05, 1), loc='upper left')\n",
    "plt.grid(True)\n",
    "plt.xticks(rotation=45)\n",
    "plt.tight_layout()\n",
    "\n",
    "# Show plot\n",
    "plt.show()"
   ]
  },
  {
   "cell_type": "markdown",
   "id": "f37dc0f6-14f7-4c9b-938a-1589168c01bf",
   "metadata": {},
   "source": [
    "# Individuals living places\n",
    "we can use that to compare it with the available conectivity"
   ]
  },
  {
   "cell_type": "code",
   "execution_count": null,
   "id": "0d50e9d8-e807-447e-bb31-94022df9f4ec",
   "metadata": {},
   "outputs": [],
   "source": [
    "# list with the values to keep:\n",
    "living_area = [\"Individuals living in cities\", \"Individuals living in rural areas\", \"Individuals living in towns and suburbs\"]\n",
    "\n",
    "df_purchases_livinggroup = df_purchases_cleaned_v3[df_purchases_cleaned_v3['last_online_purchase'] == \"in the 12 months\"]\n",
    "df_purchases_livinggroup = df_purchases_livinggroup[df_purchases_livinggroup['grouped_individuals'].isin(living_area)].reset_index(drop=True)\n",
    "\n",
    "df_purchases_livinggroup = df_purchases_livinggroup.drop(columns='last_online_purchase') # Drop no needed columns\n",
    "\n",
    "df_purchases_livinggroup"
   ]
  },
  {
   "cell_type": "code",
   "execution_count": null,
   "id": "4f42ebc2-91df-4239-bd2b-eebc4b888e92",
   "metadata": {},
   "outputs": [],
   "source": [
    "# going to group by grouped_individuals mean:\n",
    "df_living_meanvalues = df_purchases_livinggroup.groupby('grouped_individuals').mean(numeric_only=True)\n",
    "\n",
    "df_living_meanvalues"
   ]
  },
  {
   "cell_type": "code",
   "execution_count": null,
   "id": "034f254a-f023-4d2b-9757-c10770f08ba1",
   "metadata": {},
   "outputs": [],
   "source": [
    "df_living_meanvalues = df_living_meanvalues.T # TRANSPOSING!"
   ]
  },
  {
   "cell_type": "code",
   "execution_count": null,
   "id": "55d68bcb-31a8-4d51-8b30-b23386b311a6",
   "metadata": {},
   "outputs": [],
   "source": [
    "# Plotting\n",
    "plt.figure(figsize=(12, 8))\n",
    "for column in df_living_meanvalues.columns:\n",
    "    plt.plot(df_living_meanvalues.index, df_living_meanvalues[column], marker='o', label=column)\n",
    "\n",
    "# Add labels and title\n",
    "plt.xlabel('Year')\n",
    "plt.ylabel('Value')\n",
    "plt.title('Line Graph of Values by Living Area (all UE)')\n",
    "plt.legend(title='Living Area Group', bbox_to_anchor=(1.05, 1), loc='upper left')\n",
    "plt.grid(True)\n",
    "plt.xticks(rotation=45)\n",
    "plt.tight_layout()\n",
    "\n",
    "# Show plot\n",
    "plt.show()"
   ]
  },
  {
   "cell_type": "code",
   "execution_count": null,
   "id": "31bb5fea-026b-4464-be1a-258b20d35a89",
   "metadata": {},
   "outputs": [],
   "source": [
    "#testing something (trying to deepdive on the living+ groups)\n",
    "df_per_regionall = df_per_region[df_per_region['last_online_purchase'] == \"in the 12 months\"]\n",
    "df_per_regionall = df_per_regionall.drop(columns = \"last_online_purchase\") # remove the extra columns\n",
    "df_per_regionall = df_per_regionall[df_per_regionall['grouped_individuals'].isin(living_area)].reset_index(drop=True)\n",
    "\n",
    "df_per_regionall"
   ]
  },
  {
   "cell_type": "markdown",
   "id": "a2780d8d-5f2c-4b83-b3a0-3da1d9e232a0",
   "metadata": {},
   "source": [
    "# % Individuals purchasing online grouped by living place - Country Pick"
   ]
  },
  {
   "cell_type": "code",
   "execution_count": null,
   "id": "56a91120-9bf9-4598-a3af-9176213b5f20",
   "metadata": {},
   "outputs": [],
   "source": [
    "def living_country_graphic(country_pick):\n",
    "    df_per_regionallcountry = df_per_regionall.drop(columns = \"region\")\n",
    "    filtered_df = df_per_regionallcountry[df_per_regionallcountry['country'] == country_pick]\n",
    "    filtered_df = filtered_df.drop(columns = \"country\") # remove the extra columns\n",
    "    filtered_df.set_index('grouped_individuals', inplace=True)\n",
    "    filtered_df = filtered_df.T # TRANSPOSING!\n",
    "\n",
    "    plt.figure(figsize=(12, 6))\n",
    "\n",
    "    for column in filtered_df.columns:\n",
    "        plt.plot(filtered_df.index, filtered_df[column], marker='o', label=column)\n",
    "\n",
    "    # Customize the plot\n",
    "    plt.title(f\"% People purchasing online in {country}\")\n",
    "    plt.xlabel('Year')\n",
    "    plt.ylabel('Percentage (%)')\n",
    "    plt.xticks(rotation=45)\n",
    "    plt.legend(title='Grouped Individuals')\n",
    "    plt.grid(True)\n",
    "    plt.tight_layout()\n",
    "\n",
    "    # Show the plot\n",
    "    plt.show()"
   ]
  },
  {
   "cell_type": "code",
   "execution_count": null,
   "id": "06ae79da-5eb2-4e1b-aa37-a137c0ab13c7",
   "metadata": {},
   "outputs": [],
   "source": [
    "living_country_graphic(\"Spain\")"
   ]
  },
  {
   "cell_type": "markdown",
   "id": "5150643a-9e23-4c93-9aec-7a29efac5e4c",
   "metadata": {},
   "source": [
    "# % Individuals purchasing online grouped by living place - Region Pick"
   ]
  },
  {
   "cell_type": "code",
   "execution_count": null,
   "id": "40b34832-8046-471a-b9bc-fe45a9bc84da",
   "metadata": {},
   "outputs": [],
   "source": [
    "# lets try doing a function:\n",
    "\n",
    "def living_region_graphic(region_pick):\n",
    "    filtered_df2 = df_per_regionall[df_per_regionall['region'] == region_pick] #filtering region\n",
    "    filtered_df2 = filtered_df2.groupby('grouped_individuals').mean(numeric_only=True) # calculating mean for all the countries per living place\n",
    "    filtered_df2 = filtered_df2.T # TRANSPOSING!\n",
    "    plt.figure(figsize=(12, 6))\n",
    "\n",
    "    for column in filtered_df2.columns:\n",
    "        plt.plot(filtered_df2.index, filtered_df2[column], marker='o', label=column)\n",
    "\n",
    "    # Customize the plot\n",
    "    plt.title(f\"% People purchasing online in {region_pick}\")\n",
    "    plt.xlabel('Year')\n",
    "    plt.ylabel('Percentage (%)')\n",
    "    plt.xticks(rotation=45)\n",
    "    plt.legend(title='Grouped Individuals')\n",
    "    plt.grid(True)\n",
    "    plt.tight_layout()\n",
    "\n",
    "    # Show the plot\n",
    "    plt.show()"
   ]
  },
  {
   "cell_type": "code",
   "execution_count": null,
   "id": "b74dec4f-0996-49db-8339-4428efb5ab7f",
   "metadata": {},
   "outputs": [],
   "source": [
    "living_region_graphic(\"Eastern Europe\")"
   ]
  },
  {
   "cell_type": "code",
   "execution_count": null,
   "id": "4ae18fd6-7d82-4791-b9ce-2d55a12df944",
   "metadata": {
    "jupyter": {
     "source_hidden": true
    }
   },
   "outputs": [],
   "source": [
    "\n",
    "# Example function definition\n",
    "def living_region_graphic(region_pick):\n",
    "    # Filter the DataFrame for the specified region\n",
    "    filtered_df2 = df_per_regionall[df_per_regionall['region'] == region_pick]\n",
    "    \n",
    "    # Calculate the mean for all countries per category ('grouped_individuals')\n",
    "    filtered_df2 = filtered_df2.groupby('grouped_individuals').mean(numeric_only=True)\n",
    "    \n",
    "    # Transpose the DataFrame to have years as index and categories as columns\n",
    "    filtered_df2 = filtered_df2.transpose()\n",
    "    \n",
    "    # Set up the bar plot\n",
    "    plt.figure(figsize=(12, 6))\n",
    "    \n",
    "    # The range of years from the DataFrame index\n",
    "    years = filtered_df2.index\n",
    "    \n",
    "    # Plot each category as its own series of bars\n",
    "    bar_width = 0.25  # Width of the bars\n",
    "    indices = pd.Series(range(len(years)))\n",
    "    \n",
    "    for i, column in enumerate(filtered_df2.columns):\n",
    "        plt.bar(indices + i * bar_width, filtered_df2[column], width=bar_width, label=column)\n",
    "    \n",
    "    # Configure axis ticks to align with the middle of the groups of bars\n",
    "    plt.xticks(indices + bar_width, years, rotation=45)\n",
    "    \n",
    "    # Customize the plot\n",
    "    plt.title(f\"% People purchasing online in {region_pick}\")\n",
    "    plt.xlabel('Year')\n",
    "    plt.ylabel('Percentage (%)')\n",
    "    plt.ylim(0, 100)  # Set limit to 100% for y-axis\n",
    "    plt.legend(title='Grouped Individuals')\n",
    "    plt.grid(True, axis='y')  # Display grid only for y-axis\n",
    "    plt.tight_layout()\n",
    "    \n",
    "    # Show the plot\n",
    "    plt.show()\n",
    "\n",
    "# Example usage\n",
    "living_region_graphic('Eastern Europe')"
   ]
  },
  {
   "cell_type": "code",
   "execution_count": null,
   "id": "80f43f9a-2912-4528-a995-bbac677dab9d",
   "metadata": {},
   "outputs": [],
   "source": [
    "# individials per per living place same region"
   ]
  },
  {
   "cell_type": "markdown",
   "id": "9f8b0baa-01f9-465f-908e-143daecd3d39",
   "metadata": {},
   "source": [
    "# % Individuals purchasing online grouped by living place - Region Pick"
   ]
  },
  {
   "cell_type": "code",
   "execution_count": null,
   "id": "d8ac171b-217e-4fbd-8a88-a59082e6f7d9",
   "metadata": {},
   "outputs": [],
   "source": [
    "df_per_regionall['grouped_individuals'] = df_per_regionall['grouped_individuals'].str.replace(\"Individuals living in \", \"\", regex=False) # removing \"Last online purchase: \" from column indic_is\n",
    "\n",
    "def region_living_graphic(living_place_pick):\n",
    "\n",
    "    filtered_df3 = df_per_regionall[df_per_regionall['grouped_individuals'] == living_place_pick] #filtering grouped_individuals\n",
    "    filtered_df3 = filtered_df3.groupby('region').mean(numeric_only=True) # calculating mean for all the countries per living place\n",
    "    filtered_df3 = filtered_df3.T # TRANSPOSING!\n",
    "    plt.figure(figsize=(12, 6))\n",
    "    for column in filtered_df3.columns:\n",
    "        plt.plot(filtered_df3.index, filtered_df3[column], marker='o', label=column)\n",
    "\n",
    "    # Customize the plot\n",
    "    plt.title(f\"% People purchasing online in {living_place_pick}\")\n",
    "    plt.xlabel('Year')\n",
    "    plt.ylabel('Percentage (%)')\n",
    "    plt.xticks(rotation=45)\n",
    "    plt.legend(title='Grouped Individuals')\n",
    "    plt.grid(True)\n",
    "    plt.tight_layout()\n",
    "\n",
    "    # Show the plot\n",
    "    plt.show()"
   ]
  },
  {
   "cell_type": "code",
   "execution_count": null,
   "id": "2b7b233a-5eb7-4cb7-8400-a15d7f010441",
   "metadata": {},
   "outputs": [],
   "source": [
    "region_living_graphic(\"rural areas\") # 3 options: cities / rural areas / towns and suburbs"
   ]
  },
  {
   "cell_type": "code",
   "execution_count": null,
   "id": "5ab35fe8-d48d-4807-9076-4b7ed2dcdbf0",
   "metadata": {},
   "outputs": [],
   "source": []
  }
 ],
 "metadata": {
  "kernelspec": {
   "display_name": "project1_venv",
   "language": "python",
   "name": "project1_venv"
  },
  "language_info": {
   "codemirror_mode": {
    "name": "ipython",
    "version": 3
   },
   "file_extension": ".py",
   "mimetype": "text/x-python",
   "name": "python",
   "nbconvert_exporter": "python",
   "pygments_lexer": "ipython3",
   "version": "3.12.7"
  }
 },
 "nbformat": 4,
 "nbformat_minor": 5
}
