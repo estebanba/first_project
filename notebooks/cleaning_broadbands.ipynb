{
 "cells": [
  {
   "cell_type": "code",
   "execution_count": null,
   "id": "f6938ebf-da55-42b6-98a5-17cd0064a642",
   "metadata": {},
   "outputs": [],
   "source": [
    "import pandas as pd\n",
    "\n",
    "# Load a single CSV file\n",
    "broadbands= pd.read_csv('../data/raw/broadbands.csv')\n",
    "broadbands.tail()"
   ]
  },
  {
   "cell_type": "code",
   "execution_count": null,
   "id": "16299def-6775-4045-87d6-04190c5ac457",
   "metadata": {},
   "outputs": [],
   "source": [
    "#Create a commun format for the columns\n",
    "\n",
    "broadbands.columns\n",
    "\n"
   ]
  },
  {
   "cell_type": "code",
   "execution_count": null,
   "id": "8d64047b-c3ba-4031-83e0-2281cd346c2d",
   "metadata": {},
   "outputs": [],
   "source": [
    "# Clean Columns\n",
    "broadbands.columns = broadbands.columns.str.strip().str.lower()  #Convert colummns to lowercase\n",
    "broadbands\n"
   ]
  },
  {
   "cell_type": "code",
   "execution_count": null,
   "id": "771cffb6-5356-4cb0-885a-f6a5bc6bbd8a",
   "metadata": {},
   "outputs": [],
   "source": [
    "broadbands_cleaned = broadbands.dropna(axis=1, how='all') #removing all columns with all NaN values\n",
    "broadbands_cleaned = broadbands_cleaned.dropna(axis=1, how='all') #removing all columns with all NaN values\n",
    "broadbands_cleaned                  #These columns had NaN values so they were dropped (obs_flag, conf_status)  "
   ]
  },
  {
   "cell_type": "code",
   "execution_count": null,
   "id": "ec20bf32-e829-457f-a636-5192fa34eb09",
   "metadata": {},
   "outputs": [],
   "source": [
    "broadbands_cleaned[broadbands_cleaned[\"inet_tec\"]== \"Long-term evolution (LTE)\"].head(50)"
   ]
  },
  {
   "cell_type": "code",
   "execution_count": null,
   "id": "a4d35cac-4e79-4a2b-a08d-20870622668b",
   "metadata": {
    "scrolled": true
   },
   "outputs": [],
   "source": [
    "#broadbands_cleaned[\"terrtypo\"].value_counts()\n",
    "broadbands_cleaned[\"terrtypo\"].value_counts()"
   ]
  },
  {
   "cell_type": "code",
   "execution_count": null,
   "id": "f2578df7-1931-4bc8-b2ec-57a13dbc16aa",
   "metadata": {
    "scrolled": true
   },
   "outputs": [],
   "source": [
    "broadbands_cleaned[\"freq\"].value_counts()"
   ]
  },
  {
   "cell_type": "code",
   "execution_count": null,
   "id": "91776df2-c893-44c8-9f3f-33f505392f89",
   "metadata": {
    "scrolled": true
   },
   "outputs": [],
   "source": [
    "broadbands_cleaned[\"unit\"].value_counts()"
   ]
  },
  {
   "cell_type": "code",
   "execution_count": null,
   "id": "82daa386-736d-40bf-a03d-333129af4730",
   "metadata": {},
   "outputs": [],
   "source": [
    "broadbands_cleaned[\"time_period\"].value_counts()"
   ]
  },
  {
   "cell_type": "code",
   "execution_count": null,
   "id": "4f9463d3-51b6-4866-aa71-fef9b76f2187",
   "metadata": {},
   "outputs": [],
   "source": [
    "broadbands_cleaned[\"geo\"].nunique()"
   ]
  },
  {
   "cell_type": "code",
   "execution_count": null,
   "id": "87733f93-b4b2-4303-b498-878ed40afa13",
   "metadata": {},
   "outputs": [],
   "source": [
    "#broadbands_cleaned = broadbands_cleaned.drop(columns = [\"dataflow\", \"last_update\", \"freq\", \"unit\", \"terrtypo\"])\n",
    "\n",
    "#broadbands_cleaned\n",
    "\n",
    "#Drop specified columns from the DataFrame\n",
    "# Drop specified columns from the DataFrame\n",
    "#columns_to_drop = [\"dataflow\", \"last_update\", \"freq\", \"unit\", \"terrtypo\"]\n",
    "#broadbands_cleaned = broadbands_cleaned.drop(columns=columns_to_drop)\n",
    "\n",
    "# Display the updated DataFrame\n",
    "#broadbands_cleaned\n"
   ]
  },
  {
   "cell_type": "code",
   "execution_count": null,
   "id": "bbbbd4c1-a114-4532-b540-25fb0d233771",
   "metadata": {},
   "outputs": [],
   "source": [
    "#broadbands_v2[\"inet_tec\"].value_counts()"
   ]
  },
  {
   "cell_type": "code",
   "execution_count": null,
   "id": "7cdab805-f771-432a-8d30-085f22c724b2",
   "metadata": {},
   "outputs": [],
   "source": [
    "broadbands_v3 = broadbands_cleaned.pivot(index=['inet_tec', 'geo'], columns='time_period', values='obs_value').reset_index() #pivoting to add years on columns\n",
    "\n",
    "broadbands_v3[broadbands_v3[\"inet_tec\"]== \"Long-term evolution (LTE)\"]"
   ]
  },
  {
   "cell_type": "code",
   "execution_count": null,
   "id": "4fea3718-c3ef-4566-b72b-b85405324833",
   "metadata": {},
   "outputs": [],
   "source": [
    "# Dataframe for broadbands\n",
    "broadbands_v3 = pd.DataFrame({\n",
    "    \"inet_tec\": [\n",
    "        \"Digital subscriber line (DSL)\",\n",
    "        \"Satellite\",\n",
    "        \"Very high-speed digital subscriber line (VDSL)\",\n",
    "        \"Very high-speed digital subscriber line 2 vectoring (VDSL2)\",\n",
    "        \"Cable modem\",\n",
    "        \"High speed packet access (HSPA)\",\n",
    "        \"Long-term evolution (LTE)\",\n",
    "        \"Fifth generation technology standard for broadband cellular networks (5G)\"\n",
    "    ],\n",
    "    \"type\": [\"Fixed\"] * 5 + [\"Mobile\"] * 3,  # Categorizing as Fixed or Mobile\n",
    "    \"speed\": [\"Slow\", \"Slow\", \"Fast\", \"Fast\", \"Fast\", \"Slow\", \"Fast\", \"Fast\"]  # Categorizing speed\n",
    "})\n",
    "\n",
    "# Ordering the rows by speed\n",
    "broadbands_ordered = broadbands_v3.sort_values(by=\"speed\", ascending=False)\n",
    "\n",
    "# Display the ordered DataFrame\n",
    "display(broadbands_ordered)\n"
   ]
  },
  {
   "cell_type": "code",
   "execution_count": null,
   "id": "2ba61bbc-a521-47a7-88cf-a5b3c5e31f6f",
   "metadata": {},
   "outputs": [],
   "source": [
    "# Define the mapping for inet_tec values into the new column 'internet type'\n",
    "internet_type_mapping = {\n",
    "    \"Digital subscriber line (DSL)\": \"Fixed Slow\",\n",
    "    \"Satellite\": \"Fixed Slow\",\n",
    "    \"Very high-speed digital subscriber line (VDSL)\": \"Fixed Fast\",\n",
    "    \"Very high-speed digital subscriber line 2 vectoring (VDSL2)\": \"Fixed Fast\",\n",
    "    \"Cable modem\": \"Fixed Fast\",\n",
    "    \"High speed packet access (HSPA)\": \"Mobile Slow\",\n",
    "    \"Long-term evolution (LTE)\": \"Mobile Fast\",\n",
    "    \"Fifth generation technology standard for broadband cellular networks (5G)\": \"Mobile Fast\"\n",
    "}\n",
    "\n",
    "# Apply the mapping before dropping inet_tec\n",
    "broadbands_cleaned[\"internet type\"] = broadbands_cleaned[\"inet_tec\"].map(internet_type_mapping)\n",
    "\n",
    "# Drop unnecessary columns after mapping\n",
    "broadbands_cleaned = broadbands_cleaned.drop(\n",
    "    columns=[\"dataflow\", \"freq\", \"terrtypo\", \"last frequency\", \"last update\", \n",
    "             \"fixed_slow\", \"fixed_fast\", \"mobile_slow\", \"mobile_fast\", \"inet_tec\", \"unit\"], \n",
    "    errors='ignore'\n",
    ")\n",
    "\n",
    "# Rename column 'obs_value' to 'percentage of households'\n",
    "broadbands_cleaned = broadbands_cleaned.rename(columns={\"obs_value\": \"percentage of households\"})\n"
   ]
  },
  {
   "cell_type": "code",
   "execution_count": null,
   "id": "3b57cc23-f0c8-41da-8cda-fb1f5f0ee7c7",
   "metadata": {},
   "outputs": [],
   "source": [
    "# Define regions mapping\n",
    "regions = {\n",
    "    'Western Europe': ['Austria', 'Belgium', 'France', 'Germany', 'Netherlands', 'Switzerland', 'Luxembourg'],\n",
    "    'Central Europe': ['Czechia', 'Hungary', 'Poland', 'Slovakia', 'Slovenia'],\n",
    "    'Northern Europe': ['Denmark', 'Finland', 'Iceland', 'Ireland', 'Norway', 'Sweden', 'United Kingdom'],\n",
    "    'Eastern Europe': ['Bulgaria', 'Croatia', 'Estonia', 'Latvia', 'Lithuania', 'Romania', 'Serbia', 'North Macedonia', 'Montenegro', 'Bosnia and Herzegovina', 'Albania', 'Kosovo*'],\n",
    "    'Southern Europe': ['Greece', 'Italy', 'Malta', 'Portugal', 'Spain', 'Cyprus', 'Türkiye']\n",
    "}\n",
    "\n",
    "# Create a reverse mapping from country to region\n",
    "country_to_region = {country: region for region, countries in regions.items() for country in countries}\n",
    "\n",
    "# Add a 'region' column\n",
    "broadbands_cleaned['region'] = broadbands_cleaned['geo'].map(country_to_region)\n",
    "\n",
    "# Drop the geo column\n",
    "# Drop unnecessary columns after mapping\n",
    "broadbands_cleaned = broadbands_cleaned.drop(columns=[\"geo\"], errors='ignore')\n"
   ]
  },
  {
   "cell_type": "code",
   "execution_count": null,
   "id": "519f42a8-b40d-4e32-a9fc-f955d591e312",
   "metadata": {},
   "outputs": [],
   "source": [
    "# Create a pivot table grouping by region, internet type, and calculating the mean for each year\n",
    "df_grouped = broadbands_cleaned.groupby(['region', 'internet type', 'time_period'])['percentage of households'].mean().unstack()\n",
    "\n",
    "# Convert the index (years) to integers for proper plotting\n",
    "df_grouped.columns = df_grouped.columns.astype(int)\n",
    "\n",
    "# Round the mean values to two decimal places\n",
    "df_grouped = df_grouped.round(2)\n",
    "\n",
    "df_grouped"
   ]
  },
  {
   "cell_type": "code",
   "execution_count": null,
   "id": "5fe3198a-0d9b-4352-8df3-d890c89d86e4",
   "metadata": {},
   "outputs": [],
   "source": [
    "# Plot trends over time\n",
    "\n",
    "import matplotlib.pyplot as plt\n",
    "\n",
    "plt.figure(figsize=(14, 8))\n",
    "for region in df_grouped.index.get_level_values(0).unique():\n",
    "    subset = df_grouped.loc[region]\n",
    "    subset.T.plot(title=f'Trend over Time for {region}', ylabel='Percentage of Households', xlabel='Year')\n",
    "    plt.legend(title='Internet Type', bbox_to_anchor=(1.05, 1), loc='upper left')\n",
    "    plt.tight_layout()\n",
    "    plt.show()"
   ]
  },
  {
   "cell_type": "code",
   "execution_count": null,
   "id": "c1273a3e-dd01-41c5-a042-af0ba66c562a",
   "metadata": {},
   "outputs": [],
   "source": [
    "internet_types = df_grouped.index.levels[1]\n",
    "\n",
    "for internet_type in internet_types:\n",
    "    plt.figure(figsize=(14, 8))\n",
    "    for region in df_grouped.index.get_level_values(0).unique():\n",
    "        subset = df_grouped.loc[(region, internet_type)]\n",
    "        plt.plot(subset.index, subset.values, label=region)\n",
    "\n",
    "    plt.title(f\"Trend over Time for {internet_type}\")\n",
    "    plt.ylabel(\"Percentage of Households\")\n",
    "    plt.xlabel(\"Year\")\n",
    "    plt.legend(title=\"Region\", bbox_to_anchor=(1.05, 1), loc='upper left')\n",
    "    plt.tight_layout()\n",
    "    plt.show()"
   ]
  }
 ],
 "metadata": {
  "kernelspec": {
   "display_name": "env1",
   "language": "python",
   "name": "env1"
  },
  "language_info": {
   "codemirror_mode": {
    "name": "ipython",
    "version": 3
   },
   "file_extension": ".py",
   "mimetype": "text/x-python",
   "name": "python",
   "nbconvert_exporter": "python",
   "pygments_lexer": "ipython3",
   "version": "3.12.7"
  }
 },
 "nbformat": 4,
 "nbformat_minor": 5
}
