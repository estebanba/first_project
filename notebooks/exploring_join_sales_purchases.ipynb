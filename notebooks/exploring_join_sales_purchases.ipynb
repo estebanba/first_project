{
 "cells": [
  {
   "cell_type": "markdown",
   "metadata": {},
   "source": [
    "# Merge exploration between Porcentage of E-Commerce Sales and Purchases by Individuals"
   ]
  },
  {
   "cell_type": "code",
   "execution_count": null,
   "metadata": {},
   "outputs": [],
   "source": [
    "%run cleaning_ecommerce_sales.ipynb\n",
    "%run cleaning_purchases_individuals.ipynb\n",
    "\n",
    "import matplotlib.pyplot as plt\n",
    "import numpy as np\n",
    "import pandas as pd\n",
    "\n",
    "import functions\n",
    "import dictionaries\n",
    "\n",
    "df_cat, df_all, df_euro_all = import_df_ecommerce() # type: ignore\n",
    "df_purchases_cleaned_v3, df_per_region = import_df() # type: ignore\n"
   ]
  },
  {
   "cell_type": "markdown",
   "metadata": {},
   "source": [
    "## Online Purchases Processing"
   ]
  },
  {
   "cell_type": "code",
   "execution_count": null,
   "metadata": {},
   "outputs": [],
   "source": [
    "df_per_region[\"last_online_purchase\"].unique()\n",
    "df_sales_all = df_per_region[(df_per_region[\"grouped_individuals\"] == \"All individuals\") & (df_per_region[\"last_online_purchase\"] == \"in the 12 months\")]\n",
    "df_sales_all.drop(columns=[\"last_online_purchase\", \"grouped_individuals\"], inplace=True)\n",
    "\n",
    "df_all_preliminary = df_sales_all.groupby([\"region\"]).mean(numeric_only=True).round(2)\n",
    "display(df_all_preliminary)\n",
    "\n",
    "df_sales_all"
   ]
  },
  {
   "cell_type": "markdown",
   "metadata": {},
   "source": [
    "## E-Commerce Sales Processing"
   ]
  },
  {
   "cell_type": "code",
   "execution_count": null,
   "metadata": {},
   "outputs": [],
   "source": [
    "df_all_years = df_all.pivot(index=[\"region\", \"country\"], columns=\"year\", values=\"sales\").reset_index()\n",
    "\n",
    "df_all_preliminary = df_all_years.groupby([\"region\"]).mean(numeric_only=True).round(2)\n",
    "display(df_all_preliminary)\n",
    "\n",
    "df_all_years"
   ]
  },
  {
   "cell_type": "markdown",
   "metadata": {},
   "source": [
    "## Merge of Sales and Purchases dataframes"
   ]
  },
  {
   "cell_type": "code",
   "execution_count": null,
   "metadata": {},
   "outputs": [],
   "source": [
    "df_merge = df_all_years.merge(df_sales_all, how=\"right\", on=[\"region\", \"country\"])\n",
    "df_merge\n",
    "\n",
    "# YYYY_x = E-Commerce Sales\n",
    "# YYYY_y = Purchases\n",
    "\n",
    "df_merge_regions_preliminary = df_merge.groupby([\"region\"]).mean(numeric_only=True).round(2)\n",
    "display(df_merge_regions_preliminary)"
   ]
  },
  {
   "cell_type": "code",
   "execution_count": null,
   "metadata": {},
   "outputs": [],
   "source": [
    "sales_columns = [col for col in df_all_years.columns if col not in [\"region\", \"country\"]]\n",
    "purchases_columns = [col for col in df_sales_all if col not in [\"region\", \"country\"]]\n",
    "\n",
    "# print(sales_columns)\n",
    "# print(purchases_columns)\n",
    "\n",
    "temporary_columns = df_merge.columns\n",
    "temporary_columns = temporary_columns.drop([\"region\", \"country\"])\n",
    "temporary_columns = temporary_columns.to_list()\n",
    "print(temporary_columns)\n",
    "\n",
    "def ratio_func(x, y):\n",
    "    if pd.isna(x) or pd.isna(y):\n",
    "        return np.nan\n",
    "    if y == 0:\n",
    "        return np.nan\n",
    "    return round(x / y, 2)\n",
    "\n",
    "for col1, col2 in zip(sales_columns, purchases_columns):\n",
    "    # print(col1, col2)\n",
    "    new_col_name = col1\n",
    "    df_merge[new_col_name] = df_merge.apply(lambda row: ratio_func(row[f\"{col1}_x\"], row[f\"{col2}_y\"]), axis=1)\n",
    "    \n",
    "df_merge.drop(columns=temporary_columns, inplace=True)\n",
    "\n",
    "df_merge\n"
   ]
  },
  {
   "cell_type": "code",
   "execution_count": null,
   "metadata": {},
   "outputs": [],
   "source": [
    "# Display by regions\n",
    "df_merge_regions = df_merge.groupby([\"region\"]).mean(numeric_only=True).round(2)\n",
    "df_merge_regions"
   ]
  },
  {
   "cell_type": "code",
   "execution_count": null,
   "metadata": {},
   "outputs": [],
   "source": [
    "# Preprocess for plotting\n",
    "df_transposed = df_merge_regions.T # transposing DF to have years as rows and country as columns\n",
    "df_transposed.index = df_transposed.index.astype(int) # Convert the index (years) to integers for proper plotting /!\\\n",
    "\n",
    "# Plot the data\n",
    "functions.plot_line_chart(\n",
    "    df_transposed,\n",
    "    'Year', \n",
    "    f'Ratio Sales / Purchases', \n",
    "    f'Ratio Sales / Purchases',\n",
    "    'Region',\n",
    "    )"
   ]
  }
 ],
 "metadata": {
  "kernelspec": {
   "display_name": "project1_venv",
   "language": "python",
   "name": "python3"
  },
  "language_info": {
   "codemirror_mode": {
    "name": "ipython",
    "version": 3
   },
   "file_extension": ".py",
   "mimetype": "text/x-python",
   "name": "python",
   "nbconvert_exporter": "python",
   "pygments_lexer": "ipython3",
   "version": "3.9.6"
  }
 },
 "nbformat": 4,
 "nbformat_minor": 2
}
